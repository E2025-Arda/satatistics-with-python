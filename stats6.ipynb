{
 "metadata": {
  "language_info": {
   "codemirror_mode": {
    "name": "ipython",
    "version": 3
   },
   "file_extension": ".py",
   "mimetype": "text/x-python",
   "name": "python",
   "nbconvert_exporter": "python",
   "pygments_lexer": "ipython3",
   "version": "3.7.7-final"
  },
  "orig_nbformat": 2,
  "kernelspec": {
   "name": "Python 3.7.7 64-bit ('base': conda)",
   "display_name": "Python 3.7.7 64-bit ('base': conda)",
   "metadata": {
    "interpreter": {
     "hash": "6748257ddfb6c62cfaac10458a5970f1865cdfc8b829bd6d05d7729d55081232"
    }
   }
  }
 },
 "nbformat": 4,
 "nbformat_minor": 2,
 "cells": [
  {
   "cell_type": "code",
   "execution_count": 1,
   "metadata": {},
   "outputs": [],
   "source": [
    "import numpy             as np\n",
    "import pandas            as pd\n",
    "import scipy.stats       as stats\n",
    "import matplotlib.pyplot as plt\n",
    "from scipy.stats import binom"
   ]
  },
  {
   "source": [
    "# EXERCISE-1"
   ],
   "cell_type": "markdown",
   "metadata": {}
  },
  {
   "cell_type": "code",
   "execution_count": 26,
   "metadata": {},
   "outputs": [],
   "source": [
    "p   =  [0.01,0.05,0.10,0.20,0.30,0.40,0.50,0.60,0.70,0.80,0.90,0.95,0.99]\n",
    "n   =  10 \n",
    "k   =  np.arange(0,11) "
   ]
  },
  {
   "cell_type": "code",
   "execution_count": 46,
   "metadata": {},
   "outputs": [],
   "source": [
    "df=pd.DataFrame(k)\n",
    "for i in p:\n",
    "   df[i]=pd.DataFrame(binom.cdf(k,n,i))"
   ]
  },
  {
   "cell_type": "code",
   "execution_count": 47,
   "metadata": {},
   "outputs": [
    {
     "output_type": "stream",
     "name": "stdout",
     "text": [
      "    0.00   0.01   0.05   0.10   0.20   0.30   0.40   0.50   0.60   0.70  \\\n0      0  0.904  0.599  0.349  0.107  0.028  0.006  0.001  0.000  0.000   \n1      1  0.996  0.914  0.736  0.376  0.149  0.046  0.011  0.002  0.000   \n2      2  1.000  0.988  0.930  0.678  0.383  0.167  0.055  0.012  0.002   \n3      3  1.000  0.999  0.987  0.879  0.650  0.382  0.172  0.055  0.011   \n4      4  1.000  1.000  0.998  0.967  0.850  0.633  0.377  0.166  0.047   \n5      5  1.000  1.000  1.000  0.994  0.953  0.834  0.623  0.367  0.150   \n6      6  1.000  1.000  1.000  0.999  0.989  0.945  0.828  0.618  0.350   \n7      7  1.000  1.000  1.000  1.000  0.998  0.988  0.945  0.833  0.617   \n8      8  1.000  1.000  1.000  1.000  1.000  0.998  0.989  0.954  0.851   \n9      9  1.000  1.000  1.000  1.000  1.000  1.000  0.999  0.994  0.972   \n10    10  1.000  1.000  1.000  1.000  1.000  1.000  1.000  1.000  1.000   \n\n     0.80   0.90   0.95   0.99  \n0   0.000  0.000  0.000  0.000  \n1   0.000  0.000  0.000  0.000  \n2   0.000  0.000  0.000  0.000  \n3   0.001  0.000  0.000  0.000  \n4   0.006  0.000  0.000  0.000  \n5   0.033  0.002  0.000  0.000  \n6   0.121  0.013  0.001  0.000  \n7   0.322  0.070  0.012  0.000  \n8   0.624  0.264  0.086  0.004  \n9   0.893  0.651  0.401  0.096  \n10  1.000  1.000  1.000  1.000  \n"
     ]
    }
   ],
   "source": [
    "print(df.round(3))"
   ]
  },
  {
   "source": [
    "# EXERCISE 2"
   ],
   "cell_type": "markdown",
   "metadata": {}
  },
  {
   "source": [
    "## 1. A salesperson has found that the probability of a sale on a single contact is approximately .3. If the salesperson contacts 10 prospects, what is the approximate probability of making at least one sale?"
   ],
   "cell_type": "markdown",
   "metadata": {}
  },
  {
   "cell_type": "code",
   "execution_count": 55,
   "metadata": {},
   "outputs": [
    {
     "output_type": "stream",
     "name": "stdout",
     "text": [
      "0.9717524751000001\n"
     ]
    }
   ],
   "source": [
    "print(1-binom.cdf(0,10,0.3))"
   ]
  },
  {
   "source": [
    "## 2.Ten coins are tossed simultaneously. Find the probability of getting\n",
    "## (i) at least seven heads\n",
    "\n"
   ],
   "cell_type": "markdown",
   "metadata": {}
  },
  {
   "cell_type": "code",
   "execution_count": 57,
   "metadata": {},
   "outputs": [
    {
     "output_type": "stream",
     "name": "stdout",
     "text": [
      "0.010592078399999982\n"
     ]
    }
   ],
   "source": [
    "print(1-binom.cdf(6,10,0.3))"
   ]
  },
  {
   "source": [
    "## (ii) exactly seven heads\n"
   ],
   "cell_type": "markdown",
   "metadata": {}
  },
  {
   "cell_type": "code",
   "execution_count": 59,
   "metadata": {},
   "outputs": [
    {
     "output_type": "stream",
     "name": "stdout",
     "text": [
      "0.009001692000000006\n"
     ]
    }
   ],
   "source": [
    "print(binom.cdf(7,10,0.3)-binom.cdf(6,10,0.3))"
   ]
  },
  {
   "source": [
    "## (iii)at most seven heads"
   ],
   "cell_type": "markdown",
   "metadata": {}
  },
  {
   "cell_type": "code",
   "execution_count": 58,
   "metadata": {},
   "outputs": [
    {
     "output_type": "stream",
     "name": "stdout",
     "text": [
      "0.9984096136\n"
     ]
    }
   ],
   "source": [
    "print(binom.cdf(7,10,0.3))"
   ]
  },
  {
   "source": [
    "# EXERCISE 3"
   ],
   "cell_type": "markdown",
   "metadata": {}
  },
  {
   "source": [
    "## 1. A type of tree has seedlings dispersed in a large area with a mean density of five seedlings per square yard. What is the probability that none of ten randomly selected  one-square yard regions have seedlings?"
   ],
   "cell_type": "markdown",
   "metadata": {}
  },
  {
   "cell_type": "code",
   "execution_count": 8,
   "metadata": {},
   "outputs": [
    {
     "output_type": "execute_result",
     "data": {
      "text/plain": [
       "0.013695268598382881"
      ]
     },
     "metadata": {},
     "execution_count": 8
    }
   ],
   "source": [
    "1-stats.poisson.cdf(10,5)"
   ]
  },
  {
   "source": [
    "# 2.Let Y denote a random variable that has a Poisson distribution with mean λ = 2. Find\n"
   ],
   "cell_type": "markdown",
   "metadata": {}
  },
  {
   "source": [
    "# (i) P(Y = 4)"
   ],
   "cell_type": "markdown",
   "metadata": {}
  },
  {
   "cell_type": "code",
   "execution_count": 20,
   "metadata": {},
   "outputs": [
    {
     "output_type": "execute_result",
     "data": {
      "text/plain": [
       "0.16803135574154085"
      ]
     },
     "metadata": {},
     "execution_count": 20
    }
   ],
   "source": [
    " poissonDist = stats.poisson(3)#(i) P(Y = 4)\n",
    " \n",
    "poissonDist.pmf(4)"
   ]
  },
  {
   "source": [
    "# (ii) P(Y ≥ 4)"
   ],
   "cell_type": "markdown",
   "metadata": {}
  },
  {
   "cell_type": "code",
   "execution_count": 9,
   "metadata": {},
   "outputs": [],
   "source": [
    "rate =  3 \n",
    "n    =  np.arange(0,16)\n",
    "cumpoisson = stats.poisson.cdf(n,rate)\n"
   ]
  },
  {
   "cell_type": "code",
   "execution_count": 16,
   "metadata": {},
   "outputs": [
    {
     "output_type": "execute_result",
     "data": {
      "text/plain": [
       "0.8152632445237722"
      ]
     },
     "metadata": {},
     "execution_count": 16
    }
   ],
   "source": [
    "P1 = cumpoisson[4] # (ii)P(Y >=4)\n",
    "P1"
   ]
  },
  {
   "source": [
    "# (iii)P(Y < 4)"
   ],
   "cell_type": "markdown",
   "metadata": {}
  },
  {
   "cell_type": "code",
   "execution_count": 19,
   "metadata": {},
   "outputs": [
    {
     "output_type": "execute_result",
     "data": {
      "text/plain": [
       "0.1847367554762278"
      ]
     },
     "metadata": {},
     "execution_count": 19
    }
   ],
   "source": [
    "1-P1 #(iii)P(Y < 4)"
   ]
  },
  {
   "source": [
    "# (iv)P(Y ≥ 4 | Y ≥ 2 )"
   ],
   "cell_type": "markdown",
   "metadata": {}
  },
  {
   "cell_type": "code",
   "execution_count": 17,
   "metadata": {},
   "outputs": [
    {
     "output_type": "execute_result",
     "data": {
      "text/plain": [
       "0.42319008112684364"
      ]
     },
     "metadata": {},
     "execution_count": 17
    }
   ],
   "source": [
    "P2 = cumpoisson[2] # P(Y >=2)\n",
    "P2"
   ]
  },
  {
   "cell_type": "code",
   "execution_count": 18,
   "metadata": {},
   "outputs": [
    {
     "output_type": "execute_result",
     "data": {
      "text/plain": [
       "0.39207316339692855"
      ]
     },
     "metadata": {},
     "execution_count": 18
    }
   ],
   "source": [
    "P = P1 - P2 # (iv)P(Y ≥ 4 | Y ≥ 2 )\n",
    "P\n"
   ]
  },
  {
   "source": [
    "# EXERCISE 4. Consider binomial experiment for n = 20, p = .05. "
   ],
   "cell_type": "markdown",
   "metadata": {}
  },
  {
   "source": [
    "# 1.Calculate the binomial probabilities for Y = 0, 1, 2, 3, and 4."
   ],
   "cell_type": "markdown",
   "metadata": {}
  },
  {
   "cell_type": "code",
   "execution_count": 24,
   "metadata": {},
   "outputs": [
    {
     "output_type": "stream",
     "name": "stdout",
     "text": [
      "r\tp(r)\n0\t9.5367431640625e-07\n1\t1.907348632812499e-05\n2\t0.00018119812011718734\n3\t0.0010871887207031235\n4\t0.004620552062988271\n"
     ]
    }
   ],
   "source": [
    "\n",
    "(n, p) = (20, 0.5)\n",
    "binomDist = stats.binom(n, p)\n",
    "\n",
    "\n",
    "dist = []\n",
    "\n",
    "print(\"r\\tp(r)\")\n",
    "for i in range(5):\n",
    "    dist.append(binomDist.pmf(i))\n",
    "    print(str(i) + \"\\t\" + str(binomDist.pmf(i)))"
   ]
  },
  {
   "source": [
    "# 2.Calculate the same probabilities by using the Poisson approximation with λ = np. Compare."
   ],
   "cell_type": "markdown",
   "metadata": {}
  },
  {
   "cell_type": "code",
   "execution_count": 25,
   "metadata": {},
   "outputs": [
    {
     "output_type": "stream",
     "name": "stdout",
     "text": [
      "r\tp(r)\n0\t0.049787068367863944\n1\t0.14936120510359185\n2\t0.22404180765538775\n3\t0.22404180765538775\n4\t0.16803135574154085\n"
     ]
    }
   ],
   "source": [
    "\n",
    "dist = []\n",
    "\n",
    "print(\"r\\tp(r)\")\n",
    "for i in range(5):\n",
    "    dist.append(poissonDist.pmf(i))\n",
    "    print(str(i) + \"\\t\" + str(poissonDist.pmf(i)))"
   ]
  },
  {
   "cell_type": "code",
   "execution_count": null,
   "metadata": {},
   "outputs": [],
   "source": []
  }
 ]
}