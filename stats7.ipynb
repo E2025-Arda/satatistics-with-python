{
 "metadata": {
  "language_info": {
   "codemirror_mode": {
    "name": "ipython",
    "version": 3
   },
   "file_extension": ".py",
   "mimetype": "text/x-python",
   "name": "python",
   "nbconvert_exporter": "python",
   "pygments_lexer": "ipython3",
   "version": "3.7.7-final"
  },
  "orig_nbformat": 2,
  "kernelspec": {
   "name": "Python 3.7.7 64-bit ('base': conda)",
   "display_name": "Python 3.7.7 64-bit ('base': conda)",
   "metadata": {
    "interpreter": {
     "hash": "6748257ddfb6c62cfaac10458a5970f1865cdfc8b829bd6d05d7729d55081232"
    }
   }
  }
 },
 "nbformat": 4,
 "nbformat_minor": 2,
 "cells": [
  {
   "cell_type": "code",
   "execution_count": 54,
   "metadata": {},
   "outputs": [],
   "source": [
    "import numpy             as np\n",
    "import pandas            as pd\n",
    "import scipy.stats       as stats\n",
    "import matplotlib.pyplot as plt\n",
    "from scipy.stats import binom\n",
    "from scipy.integrate import quad\n",
    "import math "
   ]
  },
  {
   "source": [
    "# EXERCISE 1\n",
    "##  Create a Standard Normal Distribution Table using Python scipy.stats. "
   ],
   "cell_type": "markdown",
   "metadata": {}
  },
  {
   "cell_type": "code",
   "execution_count": 23,
   "metadata": {},
   "outputs": [],
   "source": [
    "standard_normal_table = pd.DataFrame(data = [],\n",
    "                                     index = np.round(np.arange(0, 3.5, .1),2),\n",
    "                                     columns = np.round(np.arange(0.00, .1, .01), 2))\n",
    "\n",
    "for index in standard_normal_table.index:\n",
    "    for column in standard_normal_table.columns:\n",
    "        z = np.round(index + column, 2)\n",
    "        value, _ = quad(normalProbabilityDensity, np.NINF, z)\n",
    "        standard_normal_table.loc[index, column] = 1-value\n",
    "\n",
    "standard_normal_table.index = standard_normal_table.index.astype(str)\n",
    "standard_normal_table.columns = [str(column).ljust(4,'0') for column in standard_normal_table.columns]"
   ]
  },
  {
   "cell_type": "code",
   "execution_count": 24,
   "metadata": {},
   "outputs": [
    {
     "output_type": "execute_result",
     "data": {
      "text/plain": [
       "            0.00         0.01         0.02         0.03         0.04  \\\n",
       "0.0          0.5     0.496011     0.492022     0.488034     0.484047   \n",
       "0.1     0.460172     0.456205     0.452242     0.448283      0.44433   \n",
       "0.2      0.42074     0.416834     0.412936     0.409046     0.405165   \n",
       "0.3     0.382089      0.37828     0.374484       0.3707     0.366928   \n",
       "0.4     0.344578     0.340903     0.337243     0.333598     0.329969   \n",
       "0.5     0.308538     0.305026     0.301532     0.298056     0.294599   \n",
       "0.6     0.274253     0.270931     0.267629     0.264347     0.261086   \n",
       "0.7     0.241964     0.238852     0.235762     0.232695      0.22965   \n",
       "0.8     0.211855      0.20897     0.206108     0.203269     0.200454   \n",
       "0.9      0.18406     0.181411     0.178786     0.176186     0.173609   \n",
       "1.0     0.158655     0.156248     0.153864     0.151505      0.14917   \n",
       "1.1     0.135666       0.1335     0.131357     0.129238     0.127143   \n",
       "1.2      0.11507     0.113139     0.111232     0.109349     0.107488   \n",
       "1.3    0.0968005    0.0950979    0.0934175    0.0917591    0.0901227   \n",
       "1.4    0.0807567    0.0792698    0.0778038    0.0763585    0.0749337   \n",
       "1.5    0.0668072    0.0655217    0.0642555    0.0630084    0.0617802   \n",
       "1.6    0.0547993    0.0536989    0.0526161    0.0515507    0.0505026   \n",
       "1.7    0.0445655    0.0436329    0.0427162    0.0418151    0.0409295   \n",
       "1.8    0.0359303    0.0351479    0.0343795     0.033625    0.0328841   \n",
       "1.9    0.0287166    0.0280666    0.0274289    0.0268034    0.0261898   \n",
       "2.0    0.0227501    0.0222156    0.0216917    0.0211783    0.0206752   \n",
       "2.1    0.0178644    0.0174292     0.017003    0.0165858    0.0161774   \n",
       "2.2    0.0139034    0.0135526    0.0132094    0.0128737    0.0125455   \n",
       "2.3    0.0107241    0.0104441    0.0101704   0.00990308   0.00964187   \n",
       "2.4   0.00819754   0.00797626   0.00776025   0.00754941   0.00734363   \n",
       "2.5   0.00620967   0.00603656   0.00586774   0.00570313   0.00554262   \n",
       "2.6   0.00466119   0.00452711   0.00439649   0.00426924    0.0041453   \n",
       "2.7   0.00346697   0.00336416    0.0032641   0.00316672   0.00307196   \n",
       "2.8   0.00255513   0.00247707   0.00240118    0.0023274   0.00225568   \n",
       "2.9   0.00186581   0.00180714   0.00175016   0.00169481   0.00164106   \n",
       "3.0    0.0013499   0.00130624   0.00126387   0.00122277   0.00118289   \n",
       "3.1  0.000967603  0.000935437  0.000904255  0.000874032  0.000844739   \n",
       "3.2  0.000687138  0.000663675  0.000640953  0.000618951  0.000597648   \n",
       "3.3  0.000483424   0.00046648  0.000450087   0.00043423  0.000418892   \n",
       "3.4  0.000336929  0.000324814  0.000313106  0.000301791  0.000290857   \n",
       "\n",
       "            0.05         0.06         0.07         0.08         0.09  \n",
       "0.0     0.480061     0.476078     0.472097     0.468119     0.464144  \n",
       "0.1     0.440382     0.436441     0.432505     0.428576     0.424655  \n",
       "0.2     0.401294     0.397432      0.39358     0.389739     0.385908  \n",
       "0.3     0.363169     0.359424     0.355691     0.351973     0.348268  \n",
       "0.4     0.326355     0.322758     0.319178     0.315614     0.312067  \n",
       "0.5      0.29116      0.28774     0.284339     0.280957     0.277595  \n",
       "0.6     0.257846     0.254627     0.251429     0.248252     0.245097  \n",
       "0.7     0.226627     0.223627      0.22065     0.217695     0.214764  \n",
       "0.8     0.197663     0.194895      0.19215      0.18943     0.186733  \n",
       "0.9     0.171056     0.168528     0.166023     0.163543     0.161087  \n",
       "1.0     0.146859     0.144572      0.14231     0.140071     0.137857  \n",
       "1.1     0.125072     0.123024        0.121        0.119     0.117023  \n",
       "1.2      0.10565     0.103835     0.102042     0.100273    0.0985253  \n",
       "1.3     0.088508     0.086915    0.0853435    0.0837933    0.0822644  \n",
       "1.4    0.0735293     0.072145    0.0707809    0.0694366    0.0681121  \n",
       "1.5    0.0605708    0.0593799    0.0582076    0.0570534    0.0559174  \n",
       "1.6    0.0494715    0.0484572    0.0474597    0.0464787     0.045514  \n",
       "1.7    0.0400592    0.0392039    0.0383636     0.037538     0.036727  \n",
       "1.8    0.0321568    0.0314428    0.0307419     0.030054     0.029379  \n",
       "1.9    0.0255881    0.0249979    0.0244192    0.0238518    0.0232955  \n",
       "2.0    0.0201822    0.0196993    0.0192262    0.0187628    0.0183089  \n",
       "2.1    0.0157776    0.0153863    0.0150034    0.0146287    0.0142621  \n",
       "2.2    0.0122245    0.0119106    0.0116038    0.0113038    0.0110107  \n",
       "2.3   0.00938671   0.00913747   0.00889404   0.00865632   0.00842419  \n",
       "2.4   0.00714281   0.00694685   0.00675565   0.00656912   0.00638715  \n",
       "2.5   0.00538615   0.00523361   0.00508493   0.00494002    0.0047988  \n",
       "2.6   0.00402459   0.00390703   0.00379256   0.00368111    0.0035726  \n",
       "2.7   0.00297976   0.00289007   0.00280281   0.00271794    0.0026354  \n",
       "2.8   0.00218596   0.00211821   0.00205236   0.00198838   0.00192621  \n",
       "2.9   0.00158887    0.0015382     0.001489   0.00144124   0.00139489  \n",
       "3.0   0.00114421   0.00110668   0.00107029     0.001035   0.00100078  \n",
       "3.1  0.000816352  0.000788846  0.000762195  0.000736375  0.000711364  \n",
       "3.2  0.000577025  0.000557061  0.000537737  0.000519035  0.000500937  \n",
       "3.3  0.000404058  0.000389712  0.000375841  0.000362429  0.000349463  \n",
       "3.4  0.000280293  0.000270088  0.000260229  0.000250707   0.00024151  "
      ],
      "text/html": "<div>\n<style scoped>\n    .dataframe tbody tr th:only-of-type {\n        vertical-align: middle;\n    }\n\n    .dataframe tbody tr th {\n        vertical-align: top;\n    }\n\n    .dataframe thead th {\n        text-align: right;\n    }\n</style>\n<table border=\"1\" class=\"dataframe\">\n  <thead>\n    <tr style=\"text-align: right;\">\n      <th></th>\n      <th>0.00</th>\n      <th>0.01</th>\n      <th>0.02</th>\n      <th>0.03</th>\n      <th>0.04</th>\n      <th>0.05</th>\n      <th>0.06</th>\n      <th>0.07</th>\n      <th>0.08</th>\n      <th>0.09</th>\n    </tr>\n  </thead>\n  <tbody>\n    <tr>\n      <th>0.0</th>\n      <td>0.5</td>\n      <td>0.496011</td>\n      <td>0.492022</td>\n      <td>0.488034</td>\n      <td>0.484047</td>\n      <td>0.480061</td>\n      <td>0.476078</td>\n      <td>0.472097</td>\n      <td>0.468119</td>\n      <td>0.464144</td>\n    </tr>\n    <tr>\n      <th>0.1</th>\n      <td>0.460172</td>\n      <td>0.456205</td>\n      <td>0.452242</td>\n      <td>0.448283</td>\n      <td>0.44433</td>\n      <td>0.440382</td>\n      <td>0.436441</td>\n      <td>0.432505</td>\n      <td>0.428576</td>\n      <td>0.424655</td>\n    </tr>\n    <tr>\n      <th>0.2</th>\n      <td>0.42074</td>\n      <td>0.416834</td>\n      <td>0.412936</td>\n      <td>0.409046</td>\n      <td>0.405165</td>\n      <td>0.401294</td>\n      <td>0.397432</td>\n      <td>0.39358</td>\n      <td>0.389739</td>\n      <td>0.385908</td>\n    </tr>\n    <tr>\n      <th>0.3</th>\n      <td>0.382089</td>\n      <td>0.37828</td>\n      <td>0.374484</td>\n      <td>0.3707</td>\n      <td>0.366928</td>\n      <td>0.363169</td>\n      <td>0.359424</td>\n      <td>0.355691</td>\n      <td>0.351973</td>\n      <td>0.348268</td>\n    </tr>\n    <tr>\n      <th>0.4</th>\n      <td>0.344578</td>\n      <td>0.340903</td>\n      <td>0.337243</td>\n      <td>0.333598</td>\n      <td>0.329969</td>\n      <td>0.326355</td>\n      <td>0.322758</td>\n      <td>0.319178</td>\n      <td>0.315614</td>\n      <td>0.312067</td>\n    </tr>\n    <tr>\n      <th>0.5</th>\n      <td>0.308538</td>\n      <td>0.305026</td>\n      <td>0.301532</td>\n      <td>0.298056</td>\n      <td>0.294599</td>\n      <td>0.29116</td>\n      <td>0.28774</td>\n      <td>0.284339</td>\n      <td>0.280957</td>\n      <td>0.277595</td>\n    </tr>\n    <tr>\n      <th>0.6</th>\n      <td>0.274253</td>\n      <td>0.270931</td>\n      <td>0.267629</td>\n      <td>0.264347</td>\n      <td>0.261086</td>\n      <td>0.257846</td>\n      <td>0.254627</td>\n      <td>0.251429</td>\n      <td>0.248252</td>\n      <td>0.245097</td>\n    </tr>\n    <tr>\n      <th>0.7</th>\n      <td>0.241964</td>\n      <td>0.238852</td>\n      <td>0.235762</td>\n      <td>0.232695</td>\n      <td>0.22965</td>\n      <td>0.226627</td>\n      <td>0.223627</td>\n      <td>0.22065</td>\n      <td>0.217695</td>\n      <td>0.214764</td>\n    </tr>\n    <tr>\n      <th>0.8</th>\n      <td>0.211855</td>\n      <td>0.20897</td>\n      <td>0.206108</td>\n      <td>0.203269</td>\n      <td>0.200454</td>\n      <td>0.197663</td>\n      <td>0.194895</td>\n      <td>0.19215</td>\n      <td>0.18943</td>\n      <td>0.186733</td>\n    </tr>\n    <tr>\n      <th>0.9</th>\n      <td>0.18406</td>\n      <td>0.181411</td>\n      <td>0.178786</td>\n      <td>0.176186</td>\n      <td>0.173609</td>\n      <td>0.171056</td>\n      <td>0.168528</td>\n      <td>0.166023</td>\n      <td>0.163543</td>\n      <td>0.161087</td>\n    </tr>\n    <tr>\n      <th>1.0</th>\n      <td>0.158655</td>\n      <td>0.156248</td>\n      <td>0.153864</td>\n      <td>0.151505</td>\n      <td>0.14917</td>\n      <td>0.146859</td>\n      <td>0.144572</td>\n      <td>0.14231</td>\n      <td>0.140071</td>\n      <td>0.137857</td>\n    </tr>\n    <tr>\n      <th>1.1</th>\n      <td>0.135666</td>\n      <td>0.1335</td>\n      <td>0.131357</td>\n      <td>0.129238</td>\n      <td>0.127143</td>\n      <td>0.125072</td>\n      <td>0.123024</td>\n      <td>0.121</td>\n      <td>0.119</td>\n      <td>0.117023</td>\n    </tr>\n    <tr>\n      <th>1.2</th>\n      <td>0.11507</td>\n      <td>0.113139</td>\n      <td>0.111232</td>\n      <td>0.109349</td>\n      <td>0.107488</td>\n      <td>0.10565</td>\n      <td>0.103835</td>\n      <td>0.102042</td>\n      <td>0.100273</td>\n      <td>0.0985253</td>\n    </tr>\n    <tr>\n      <th>1.3</th>\n      <td>0.0968005</td>\n      <td>0.0950979</td>\n      <td>0.0934175</td>\n      <td>0.0917591</td>\n      <td>0.0901227</td>\n      <td>0.088508</td>\n      <td>0.086915</td>\n      <td>0.0853435</td>\n      <td>0.0837933</td>\n      <td>0.0822644</td>\n    </tr>\n    <tr>\n      <th>1.4</th>\n      <td>0.0807567</td>\n      <td>0.0792698</td>\n      <td>0.0778038</td>\n      <td>0.0763585</td>\n      <td>0.0749337</td>\n      <td>0.0735293</td>\n      <td>0.072145</td>\n      <td>0.0707809</td>\n      <td>0.0694366</td>\n      <td>0.0681121</td>\n    </tr>\n    <tr>\n      <th>1.5</th>\n      <td>0.0668072</td>\n      <td>0.0655217</td>\n      <td>0.0642555</td>\n      <td>0.0630084</td>\n      <td>0.0617802</td>\n      <td>0.0605708</td>\n      <td>0.0593799</td>\n      <td>0.0582076</td>\n      <td>0.0570534</td>\n      <td>0.0559174</td>\n    </tr>\n    <tr>\n      <th>1.6</th>\n      <td>0.0547993</td>\n      <td>0.0536989</td>\n      <td>0.0526161</td>\n      <td>0.0515507</td>\n      <td>0.0505026</td>\n      <td>0.0494715</td>\n      <td>0.0484572</td>\n      <td>0.0474597</td>\n      <td>0.0464787</td>\n      <td>0.045514</td>\n    </tr>\n    <tr>\n      <th>1.7</th>\n      <td>0.0445655</td>\n      <td>0.0436329</td>\n      <td>0.0427162</td>\n      <td>0.0418151</td>\n      <td>0.0409295</td>\n      <td>0.0400592</td>\n      <td>0.0392039</td>\n      <td>0.0383636</td>\n      <td>0.037538</td>\n      <td>0.036727</td>\n    </tr>\n    <tr>\n      <th>1.8</th>\n      <td>0.0359303</td>\n      <td>0.0351479</td>\n      <td>0.0343795</td>\n      <td>0.033625</td>\n      <td>0.0328841</td>\n      <td>0.0321568</td>\n      <td>0.0314428</td>\n      <td>0.0307419</td>\n      <td>0.030054</td>\n      <td>0.029379</td>\n    </tr>\n    <tr>\n      <th>1.9</th>\n      <td>0.0287166</td>\n      <td>0.0280666</td>\n      <td>0.0274289</td>\n      <td>0.0268034</td>\n      <td>0.0261898</td>\n      <td>0.0255881</td>\n      <td>0.0249979</td>\n      <td>0.0244192</td>\n      <td>0.0238518</td>\n      <td>0.0232955</td>\n    </tr>\n    <tr>\n      <th>2.0</th>\n      <td>0.0227501</td>\n      <td>0.0222156</td>\n      <td>0.0216917</td>\n      <td>0.0211783</td>\n      <td>0.0206752</td>\n      <td>0.0201822</td>\n      <td>0.0196993</td>\n      <td>0.0192262</td>\n      <td>0.0187628</td>\n      <td>0.0183089</td>\n    </tr>\n    <tr>\n      <th>2.1</th>\n      <td>0.0178644</td>\n      <td>0.0174292</td>\n      <td>0.017003</td>\n      <td>0.0165858</td>\n      <td>0.0161774</td>\n      <td>0.0157776</td>\n      <td>0.0153863</td>\n      <td>0.0150034</td>\n      <td>0.0146287</td>\n      <td>0.0142621</td>\n    </tr>\n    <tr>\n      <th>2.2</th>\n      <td>0.0139034</td>\n      <td>0.0135526</td>\n      <td>0.0132094</td>\n      <td>0.0128737</td>\n      <td>0.0125455</td>\n      <td>0.0122245</td>\n      <td>0.0119106</td>\n      <td>0.0116038</td>\n      <td>0.0113038</td>\n      <td>0.0110107</td>\n    </tr>\n    <tr>\n      <th>2.3</th>\n      <td>0.0107241</td>\n      <td>0.0104441</td>\n      <td>0.0101704</td>\n      <td>0.00990308</td>\n      <td>0.00964187</td>\n      <td>0.00938671</td>\n      <td>0.00913747</td>\n      <td>0.00889404</td>\n      <td>0.00865632</td>\n      <td>0.00842419</td>\n    </tr>\n    <tr>\n      <th>2.4</th>\n      <td>0.00819754</td>\n      <td>0.00797626</td>\n      <td>0.00776025</td>\n      <td>0.00754941</td>\n      <td>0.00734363</td>\n      <td>0.00714281</td>\n      <td>0.00694685</td>\n      <td>0.00675565</td>\n      <td>0.00656912</td>\n      <td>0.00638715</td>\n    </tr>\n    <tr>\n      <th>2.5</th>\n      <td>0.00620967</td>\n      <td>0.00603656</td>\n      <td>0.00586774</td>\n      <td>0.00570313</td>\n      <td>0.00554262</td>\n      <td>0.00538615</td>\n      <td>0.00523361</td>\n      <td>0.00508493</td>\n      <td>0.00494002</td>\n      <td>0.0047988</td>\n    </tr>\n    <tr>\n      <th>2.6</th>\n      <td>0.00466119</td>\n      <td>0.00452711</td>\n      <td>0.00439649</td>\n      <td>0.00426924</td>\n      <td>0.0041453</td>\n      <td>0.00402459</td>\n      <td>0.00390703</td>\n      <td>0.00379256</td>\n      <td>0.00368111</td>\n      <td>0.0035726</td>\n    </tr>\n    <tr>\n      <th>2.7</th>\n      <td>0.00346697</td>\n      <td>0.00336416</td>\n      <td>0.0032641</td>\n      <td>0.00316672</td>\n      <td>0.00307196</td>\n      <td>0.00297976</td>\n      <td>0.00289007</td>\n      <td>0.00280281</td>\n      <td>0.00271794</td>\n      <td>0.0026354</td>\n    </tr>\n    <tr>\n      <th>2.8</th>\n      <td>0.00255513</td>\n      <td>0.00247707</td>\n      <td>0.00240118</td>\n      <td>0.0023274</td>\n      <td>0.00225568</td>\n      <td>0.00218596</td>\n      <td>0.00211821</td>\n      <td>0.00205236</td>\n      <td>0.00198838</td>\n      <td>0.00192621</td>\n    </tr>\n    <tr>\n      <th>2.9</th>\n      <td>0.00186581</td>\n      <td>0.00180714</td>\n      <td>0.00175016</td>\n      <td>0.00169481</td>\n      <td>0.00164106</td>\n      <td>0.00158887</td>\n      <td>0.0015382</td>\n      <td>0.001489</td>\n      <td>0.00144124</td>\n      <td>0.00139489</td>\n    </tr>\n    <tr>\n      <th>3.0</th>\n      <td>0.0013499</td>\n      <td>0.00130624</td>\n      <td>0.00126387</td>\n      <td>0.00122277</td>\n      <td>0.00118289</td>\n      <td>0.00114421</td>\n      <td>0.00110668</td>\n      <td>0.00107029</td>\n      <td>0.001035</td>\n      <td>0.00100078</td>\n    </tr>\n    <tr>\n      <th>3.1</th>\n      <td>0.000967603</td>\n      <td>0.000935437</td>\n      <td>0.000904255</td>\n      <td>0.000874032</td>\n      <td>0.000844739</td>\n      <td>0.000816352</td>\n      <td>0.000788846</td>\n      <td>0.000762195</td>\n      <td>0.000736375</td>\n      <td>0.000711364</td>\n    </tr>\n    <tr>\n      <th>3.2</th>\n      <td>0.000687138</td>\n      <td>0.000663675</td>\n      <td>0.000640953</td>\n      <td>0.000618951</td>\n      <td>0.000597648</td>\n      <td>0.000577025</td>\n      <td>0.000557061</td>\n      <td>0.000537737</td>\n      <td>0.000519035</td>\n      <td>0.000500937</td>\n    </tr>\n    <tr>\n      <th>3.3</th>\n      <td>0.000483424</td>\n      <td>0.00046648</td>\n      <td>0.000450087</td>\n      <td>0.00043423</td>\n      <td>0.000418892</td>\n      <td>0.000404058</td>\n      <td>0.000389712</td>\n      <td>0.000375841</td>\n      <td>0.000362429</td>\n      <td>0.000349463</td>\n    </tr>\n    <tr>\n      <th>3.4</th>\n      <td>0.000336929</td>\n      <td>0.000324814</td>\n      <td>0.000313106</td>\n      <td>0.000301791</td>\n      <td>0.000290857</td>\n      <td>0.000280293</td>\n      <td>0.000270088</td>\n      <td>0.000260229</td>\n      <td>0.000250707</td>\n      <td>0.00024151</td>\n    </tr>\n  </tbody>\n</table>\n</div>"
     },
     "metadata": {},
     "execution_count": 24
    }
   ],
   "source": [
    "standard_normal_table"
   ]
  },
  {
   "source": [
    "# EXERCISE 2 \n",
    "## The cycle time for trucks hauling concrete to a highway construction site is uniformly distributed over the interval 50 to 70 minutes. What is the probability that the cycle time exceeds 65 minutes  if it is known that the cycle time exceeds 55 minutes?"
   ],
   "cell_type": "markdown",
   "metadata": {}
  },
  {
   "cell_type": "code",
   "execution_count": 26,
   "metadata": {},
   "outputs": [],
   "source": [
    "\n",
    "(a, b) = (50, 70)"
   ]
  },
  {
   "cell_type": "code",
   "execution_count": 27,
   "metadata": {},
   "outputs": [],
   "source": [
    "unifDist = stats.uniform(a, b)"
   ]
  },
  {
   "cell_type": "code",
   "execution_count": 34,
   "metadata": {},
   "outputs": [
    {
     "output_type": "execute_result",
     "data": {
      "text/plain": [
       "0.3333333333333333"
      ]
     },
     "metadata": {},
     "execution_count": 34
    }
   ],
   "source": [
    "unifDist.cdf(55)/unifDist.cdf(65)"
   ]
  },
  {
   "source": [
    "# EXERCISE 3\n",
    "## The width of bolts of fabric is normally distributed with mean 950 mm (millimeters) and standard deviation 10 mm.\n",
    "\n"
   ],
   "cell_type": "markdown",
   "metadata": {}
  },
  {
   "source": [
    "## 1.What is the probability that a randomly chosen bolt has a width of between 947 and 958mm?\n"
   ],
   "cell_type": "markdown",
   "metadata": {}
  },
  {
   "cell_type": "code",
   "execution_count": 35,
   "metadata": {},
   "outputs": [
    {
     "output_type": "execute_result",
     "data": {
      "text/plain": [
       "0.406056023605556"
      ]
     },
     "metadata": {},
     "execution_count": 35
    }
   ],
   "source": [
    "stats.norm(950, 10).cdf(958) - stats.norm(950, 10).cdf(947)"
   ]
  },
  {
   "source": [
    "## 2.What is the appropriate value for C such that a randomly chosen bolt has a width less than C with probability .8531?"
   ],
   "cell_type": "markdown",
   "metadata": {}
  },
  {
   "cell_type": "code",
   "execution_count": 38,
   "metadata": {},
   "outputs": [
    {
     "output_type": "execute_result",
     "data": {
      "text/plain": [
       "1.0498219096264123"
      ]
     },
     "metadata": {},
     "execution_count": 38
    }
   ],
   "source": [
    "stats.norm.ppf(.8531)"
   ]
  },
  {
   "cell_type": "code",
   "execution_count": 39,
   "metadata": {},
   "outputs": [
    {
     "output_type": "execute_result",
     "data": {
      "text/plain": [
       "960.4982190962642"
      ]
     },
     "metadata": {},
     "execution_count": 39
    }
   ],
   "source": [
    "950+(1.0498219096264123*10)"
   ]
  },
  {
   "source": [
    "# EXERCISE 4\n",
    "## The school board administered an IQ test to 20 randomly selected teachers. They found that the average IQ score was 114 with a standard deviation of 10. Assume that the cumulative probability is 0.90. What population mean would have produced this sample result?"
   ],
   "cell_type": "markdown",
   "metadata": {}
  },
  {
   "cell_type": "code",
   "execution_count": 63,
   "metadata": {},
   "outputs": [
    {
     "output_type": "execute_result",
     "data": {
      "text/plain": [
       "0.09999999999999998"
      ]
     },
     "metadata": {},
     "execution_count": 63
    }
   ],
   "source": [
    "t=1-0.9\n",
    "t"
   ]
  },
  {
   "source": [
    "0.09999999999999998 = (114 - p.mean())/(10/(math.sqrt(20))"
   ],
   "cell_type": "markdown",
   "metadata": {}
  },
  {
   "cell_type": "code",
   "execution_count": 62,
   "metadata": {},
   "outputs": [
    {
     "output_type": "execute_result",
     "data": {
      "text/plain": [
       "113.77639320225002"
      ]
     },
     "metadata": {},
     "execution_count": 62
    }
   ],
   "source": [
    "114-(0.09999999999999998*(10/(math.sqrt(20))))"
   ]
  },
  {
   "cell_type": "code",
   "execution_count": null,
   "metadata": {},
   "outputs": [],
   "source": []
  }
 ]
}