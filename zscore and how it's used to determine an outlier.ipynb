{
  "nbformat": 4,
  "nbformat_minor": 0,
  "metadata": {
    "language_info": {
      "codemirror_mode": {
        "name": "ipython",
        "version": 3
      },
      "file_extension": ".py",
      "mimetype": "text/x-python",
      "name": "python",
      "nbconvert_exporter": "python",
      "pygments_lexer": "ipython3",
      "version": "3.7.7-final"
    },
    "orig_nbformat": 2,
    "kernelspec": {
      "name": "Python 3.7.7 64-bit ('base': conda)",
      "display_name": "Python 3.7.7 64-bit ('base': conda)",
      "metadata": {
        "interpreter": {
          "hash": "6748257ddfb6c62cfaac10458a5970f1865cdfc8b829bd6d05d7729d55081232"
        }
      }
    },
    "colab": {
      "name": "zscore and how it's used to determine an outlier.ipynb",
      "provenance": [],
      "include_colab_link": true
    }
  },
  "cells": [
    {
      "cell_type": "markdown",
      "metadata": {
        "id": "view-in-github",
        "colab_type": "text"
      },
      "source": [
        "<a href=\"https://colab.research.google.com/github/idenw/statistics-with-python/blob/main/zscore%20and%20how%20it's%20used%20to%20determine%20an%20outlier.ipynb\" target=\"_parent\"><img src=\"https://colab.research.google.com/assets/colab-badge.svg\" alt=\"Open In Colab\"/></a>"
      ]
    },
    {
      "cell_type": "code",
      "metadata": {
        "id": "s8FWu_RxcrKd"
      },
      "source": [
        "import matplotlib.pyplot as plt \n",
        "import numpy as np \n",
        "import pandas as pd \n",
        "import seaborn as sns\n",
        "from scipy import stats "
      ],
      "execution_count": 1,
      "outputs": []
    },
    {
      "cell_type": "markdown",
      "metadata": {
        "id": "_imj2gsbcrKw"
      },
      "source": [
        "https://statistics.laerd.com/statistical-guides/standard-score-4.php"
      ]
    },
    {
      "cell_type": "markdown",
      "metadata": {
        "id": "BJO0ri_XcrKz"
      },
      "source": [
        "https://medium.com/@gulcanogundur/normal-da%C4%9F%C4%B1l%C4%B1m-z-score-ve-standardizasyon-782963bc123e"
      ]
    },
    {
      "cell_type": "code",
      "metadata": {
        "id": "36MuF9wJcrK0"
      },
      "source": [
        "mu, sigma = 100, 5\n",
        "s= np.random.normal(mu, sigma, 200) # generate 200 samples, from a normal distubition,centered around the value 100, with a standart deviation of 10"
      ],
      "execution_count": 45,
      "outputs": []
    },
    {
      "cell_type": "code",
      "metadata": {
        "id": "aXSIgl-5crK1",
        "outputId": "489d11ff-49d2-4e3e-b0d7-ecd9193c1bb7",
        "colab": {
          "base_uri": "https://localhost:8080/"
        }
      },
      "source": [
        "s"
      ],
      "execution_count": 46,
      "outputs": [
        {
          "output_type": "execute_result",
          "data": {
            "text/plain": [
              "array([ 98.99925162, 101.761689  , 103.5636477 , 100.32387988,\n",
              "       104.67886964,  90.37960429,  99.19553606,  98.35626266,\n",
              "        93.98012624, 100.99270794,  98.62815418, 100.21846526,\n",
              "       105.49736091,  99.71433153, 102.82042728,  92.93111182,\n",
              "        97.64148817, 103.84036743,  99.28997374,  94.39135782,\n",
              "        99.45684343, 108.77044559,  97.52139868, 101.59921178,\n",
              "       102.76562257,  99.23437826,  97.59288094, 102.96904327,\n",
              "        95.15193661, 101.46659964,  98.04933951, 102.23544247,\n",
              "        96.44491765, 113.18946118, 110.58037418,  96.55655685,\n",
              "        98.18742294,  95.93755895,  93.34893954, 100.84976295,\n",
              "       108.79058093, 105.06557278,  98.99247107,  93.69319702,\n",
              "       100.35374809,  93.79647222, 104.84573969,  99.28006014,\n",
              "        99.76677708,  99.47749159,  93.79236466,  99.20891887,\n",
              "        91.45404881,  94.32685529, 106.01588288,  95.06131749,\n",
              "        99.02278889, 104.40493425,  92.60197902, 104.96355774,\n",
              "        95.99664844, 102.59007561,  99.4355121 ,  99.86107973,\n",
              "       106.77515163,  97.93894007,  96.14450323,  96.43225476,\n",
              "        94.60729644,  96.44817427, 102.49356252,  96.83047367,\n",
              "       101.43077482, 102.82223492, 101.18448664, 104.41475108,\n",
              "       100.70588659,  92.31371889, 104.30302549,  93.2069796 ,\n",
              "        96.85543857,  91.39157878,  93.64817731,  98.77569455,\n",
              "       106.77682941, 104.25777423,  98.13249374, 101.73281914,\n",
              "        86.28324984,  88.21020051, 102.21394251,  95.2705023 ,\n",
              "        99.87437088, 101.5517658 , 101.37404022, 100.24688802,\n",
              "        89.08478075, 100.43795446,  98.17402268,  91.47496393,\n",
              "        99.97624305, 100.23481201,  99.35470457,  99.01921638,\n",
              "        99.15356051, 100.69455596, 100.91922366, 101.46816714,\n",
              "        99.69811971,  97.68187219, 100.85871123,  95.5793967 ,\n",
              "        98.17761846,  96.79212674,  93.53410687,  94.77464595,\n",
              "       103.8846018 ,  98.86437698, 112.75794662,  95.39395555,\n",
              "        99.13723346, 101.37435575, 107.73549479, 102.35735289,\n",
              "       101.30489221, 103.39814838, 112.47074847, 105.20624214,\n",
              "       101.91156004, 105.32546462, 102.43530617, 102.24545203,\n",
              "       101.34768598,  97.79758425,  95.63554852,  95.70084888,\n",
              "       102.69398057,  95.67457592, 104.26481789,  97.49402989,\n",
              "        95.4445234 , 100.48355531,  91.19268121,  97.77124571,\n",
              "        95.19638285, 104.5833409 ,  96.17057922,  91.07489976,\n",
              "       104.8147723 ,  98.7512772 , 104.20446898,  94.25873943,\n",
              "        98.98783285, 100.3599107 , 103.28205589, 100.51797678,\n",
              "        94.38762531,  99.47443334, 100.49325566, 102.75188523,\n",
              "       100.01303652, 104.17655103,  99.28720382, 108.55523392,\n",
              "        92.91550358,  97.55921398,  95.58679801, 103.42411078,\n",
              "        99.60046547,  96.55354505,  99.66810867, 102.49839817,\n",
              "       108.61971731,  98.50358766, 101.09798151, 100.58177551,\n",
              "       102.99413375,  94.25903653,  97.73378543,  95.77109948,\n",
              "        99.55741709,  89.5304298 , 104.12294726,  99.571368  ,\n",
              "       105.91978862,  99.31631296,  94.29084294,  99.04249577,\n",
              "        96.05276093, 103.11703285, 108.11270536,  92.5668831 ,\n",
              "       100.6378976 , 106.99100921,  91.17818472, 106.73177007,\n",
              "        99.04711204,  95.80199391, 112.89548017, 101.47735465])"
            ]
          },
          "metadata": {
            "tags": []
          },
          "execution_count": 46
        }
      ]
    },
    {
      "cell_type": "code",
      "metadata": {
        "id": "kUrhCWVScrK6",
        "outputId": "d0df4d6e-7d99-4fda-dcee-5708d3c407e0",
        "colab": {
          "base_uri": "https://localhost:8080/",
          "height": 265
        }
      },
      "source": [
        "sns.histplot(s) # as you see most of values are scattered between the values 40 and 60 as it is obvious that we have chosen a normal distrubition hving an average value of 50 and standart deviaton of 10\n",
        "plt.show()"
      ],
      "execution_count": 47,
      "outputs": [
        {
          "output_type": "display_data",
          "data": {
            "image/png": "[encoded data removed]",
            "text/plain": [
              "<Figure size 432x288 with 1 Axes>"
            ]
          },
          "metadata": {
            "tags": [],
            "needs_background": "light"
          }
        }
      ]
    },
    {
      "cell_type": "code",
      "metadata": {
        "id": "1fVFTvtpcrK8"
      },
      "source": [
        "s[90] = 180\n",
        "s[50] = -40"
      ],
      "execution_count": 48,
      "outputs": []
    },
    {
      "cell_type": "code",
      "metadata": {
        "id": "XbzdHJD5crK9",
        "outputId": "69e88ca9-6908-43d1-c023-4a07ec872b9b",
        "colab": {
          "base_uri": "https://localhost:8080/",
          "height": 265
        }
      },
      "source": [
        "sns.histplot(s)\r\n",
        "plt.show()"
      ],
      "execution_count": 49,
      "outputs": [
        {
          "output_type": "display_data",
          "data": {
            "image/png": "[encoded data removed]",
            "text/plain": [
              "<Figure size 432x288 with 1 Axes>"
            ]
          },
          "metadata": {
            "tags": [],
            "needs_background": "light"
          }
        }
      ]
    },
    {
      "cell_type": "code",
      "metadata": {
        "id": "qyy4QZ1_crK-",
        "outputId": "2b16d827-2c6f-48dd-f1cc-bca4f45c7d53",
        "colab": {
          "base_uri": "https://localhost:8080/",
          "height": 195
        }
      },
      "source": [
        "df = pd.DataFrame(s, columns=[\"Data\"]) #create a dataframe from distrubution we have\n",
        "df.head()"
      ],
      "execution_count": 50,
      "outputs": [
        {
          "output_type": "execute_result",
          "data": {
            "text/html": [
              "<div>\n",
              "<style scoped>\n",
              "    .dataframe tbody tr th:only-of-type {\n",
              "        vertical-align: middle;\n",
              "    }\n",
              "\n",
              "    .dataframe tbody tr th {\n",
              "        vertical-align: top;\n",
              "    }\n",
              "\n",
              "    .dataframe thead th {\n",
              "        text-align: right;\n",
              "    }\n",
              "</style>\n",
              "<table border=\"1\" class=\"dataframe\">\n",
              "  <thead>\n",
              "    <tr style=\"text-align: right;\">\n",
              "      <th></th>\n",
              "      <th>Data</th>\n",
              "    </tr>\n",
              "  </thead>\n",
              "  <tbody>\n",
              "    <tr>\n",
              "      <th>0</th>\n",
              "      <td>98.999252</td>\n",
              "    </tr>\n",
              "    <tr>\n",
              "      <th>1</th>\n",
              "      <td>101.761689</td>\n",
              "    </tr>\n",
              "    <tr>\n",
              "      <th>2</th>\n",
              "      <td>103.563648</td>\n",
              "    </tr>\n",
              "    <tr>\n",
              "      <th>3</th>\n",
              "      <td>100.323880</td>\n",
              "    </tr>\n",
              "    <tr>\n",
              "      <th>4</th>\n",
              "      <td>104.678870</td>\n",
              "    </tr>\n",
              "  </tbody>\n",
              "</table>\n",
              "</div>"
            ],
            "text/plain": [
              "         Data\n",
              "0   98.999252\n",
              "1  101.761689\n",
              "2  103.563648\n",
              "3  100.323880\n",
              "4  104.678870"
            ]
          },
          "metadata": {
            "tags": []
          },
          "execution_count": 50
        }
      ]
    },
    {
      "cell_type": "markdown",
      "metadata": {
        "id": "d5fkKggocrK-"
      },
      "source": [
        "# Calculating the z_score"
      ]
    },
    {
      "cell_type": "code",
      "metadata": {
        "id": "n7tTyytIcrK_"
      },
      "source": [
        "for col in df.columns:\n",
        "    col_zscore = col + \"_zscore\"\n",
        "    df[col_zscore] = (df[col] - df[col].mean())/df[col].std(ddof=0)\n",
        "# creating a new column in my dataframe, which would be called \"data_zscore\" where I take the row value and I subtract that columns mean from that row value and divide by the standard deviation of that column "
      ],
      "execution_count": 51,
      "outputs": []
    },
    {
      "cell_type": "code",
      "metadata": {
        "id": "Odbp-G_kfZiM",
        "outputId": "dc7ee9c8-93f6-4811-a1d9-36ab54e4ef9c",
        "colab": {
          "base_uri": "https://localhost:8080/",
          "height": 195
        }
      },
      "source": [
        "df.head()"
      ],
      "execution_count": 52,
      "outputs": [
        {
          "output_type": "execute_result",
          "data": {
            "text/html": [
              "<div>\n",
              "<style scoped>\n",
              "    .dataframe tbody tr th:only-of-type {\n",
              "        vertical-align: middle;\n",
              "    }\n",
              "\n",
              "    .dataframe tbody tr th {\n",
              "        vertical-align: top;\n",
              "    }\n",
              "\n",
              "    .dataframe thead th {\n",
              "        text-align: right;\n",
              "    }\n",
              "</style>\n",
              "<table border=\"1\" class=\"dataframe\">\n",
              "  <thead>\n",
              "    <tr style=\"text-align: right;\">\n",
              "      <th></th>\n",
              "      <th>Data</th>\n",
              "      <th>Data_zscore</th>\n",
              "    </tr>\n",
              "  </thead>\n",
              "  <tbody>\n",
              "    <tr>\n",
              "      <th>0</th>\n",
              "      <td>98.999252</td>\n",
              "      <td>-0.025861</td>\n",
              "    </tr>\n",
              "    <tr>\n",
              "      <th>1</th>\n",
              "      <td>101.761689</td>\n",
              "      <td>0.198207</td>\n",
              "    </tr>\n",
              "    <tr>\n",
              "      <th>2</th>\n",
              "      <td>103.563648</td>\n",
              "      <td>0.344367</td>\n",
              "    </tr>\n",
              "    <tr>\n",
              "      <th>3</th>\n",
              "      <td>100.323880</td>\n",
              "      <td>0.081583</td>\n",
              "    </tr>\n",
              "    <tr>\n",
              "      <th>4</th>\n",
              "      <td>104.678870</td>\n",
              "      <td>0.434826</td>\n",
              "    </tr>\n",
              "  </tbody>\n",
              "</table>\n",
              "</div>"
            ],
            "text/plain": [
              "         Data  Data_zscore\n",
              "0   98.999252    -0.025861\n",
              "1  101.761689     0.198207\n",
              "2  103.563648     0.344367\n",
              "3  100.323880     0.081583\n",
              "4  104.678870     0.434826"
            ]
          },
          "metadata": {
            "tags": []
          },
          "execution_count": 52
        }
      ]
    },
    {
      "cell_type": "code",
      "metadata": {
        "id": "5h0smfBzcrLA"
      },
      "source": [
        ""
      ],
      "execution_count": null,
      "outputs": []
    },
    {
      "cell_type": "markdown",
      "metadata": {
        "id": "YJyMNcR7crLA"
      },
      "source": [
        "pandas.DataFrame.std\n",
        "DataFrame.std(axis=None, skipna=None, level=None, ddof=1, numeric_only=None, **kwargs)[source]¶\n",
        "Return sample standard deviation over requested axis.\n",
        "\n",
        "Normalized by N-1 by default. This can be changed using the ddof argument\n",
        "\n",
        "Parameters\n",
        "axis{index (0), columns (1)}\n",
        "skipnabool, default True\n",
        "Exclude NA/null values. If an entire row/column is NA, the result will be NA.\n",
        "\n",
        "levelint or level name, default None\n",
        "If the axis is a MultiIndex (hierarchical), count along a particular level, collapsing into a Series.\n",
        "\n",
        "ddofint, default 1\n",
        "Delta Degrees of Freedom. The divisor used in calculations is N - ddof, where N represents the number of elements.\n",
        "\n",
        "numeric_onlybool, default None\n",
        "Include only float, int, boolean columns. If None, will attempt to use everything, then use only numeric data. Not implemented for Series.\n",
        "\n",
        "Returns\n",
        "Series or DataFrame (if level specified)"
      ]
    },
    {
      "cell_type": "markdown",
      "metadata": {
        "id": "-1S0BXuecrLB"
      },
      "source": [
        "* Z-Score is essentially how many standart deviations away is my actual value from the mean value based on the business context, you can define the threshold value for the z score to classify a point as an outlier or not in the current scheme of things."
      ]
    },
    {
      "cell_type": "code",
      "metadata": {
        "id": "3YRT_Un3crLC"
      },
      "source": [
        "df[\"outlier\"] = (abs(df[\"Data_zscore\"])>3).astype(int)"
      ],
      "execution_count": 53,
      "outputs": []
    },
    {
      "cell_type": "markdown",
      "metadata": {
        "id": "BdCv899GcrLC"
      },
      "source": [
        "dataframe.abs() is one of the simplest pandas dataframe function. It returns an object with absolute value taken and it is only applicable to objects that are all numeric. It does not work with any Nan value either. abs() function can also be used with complex numbers to find their absolute value."
      ]
    },
    {
      "cell_type": "code",
      "metadata": {
        "id": "ULOVF0vNcrLD",
        "outputId": "7fca42b7-014a-41d5-c998-ed1b86a89da4",
        "colab": {
          "base_uri": "https://localhost:8080/",
          "height": 195
        }
      },
      "source": [
        "df.tail() # actual data column,\tData_zscore,outlier"
      ],
      "execution_count": 54,
      "outputs": [
        {
          "output_type": "execute_result",
          "data": {
            "text/html": [
              "<div>\n",
              "<style scoped>\n",
              "    .dataframe tbody tr th:only-of-type {\n",
              "        vertical-align: middle;\n",
              "    }\n",
              "\n",
              "    .dataframe tbody tr th {\n",
              "        vertical-align: top;\n",
              "    }\n",
              "\n",
              "    .dataframe thead th {\n",
              "        text-align: right;\n",
              "    }\n",
              "</style>\n",
              "<table border=\"1\" class=\"dataframe\">\n",
              "  <thead>\n",
              "    <tr style=\"text-align: right;\">\n",
              "      <th></th>\n",
              "      <th>Data</th>\n",
              "      <th>Data_zscore</th>\n",
              "      <th>outlier</th>\n",
              "    </tr>\n",
              "  </thead>\n",
              "  <tbody>\n",
              "    <tr>\n",
              "      <th>195</th>\n",
              "      <td>106.731770</td>\n",
              "      <td>0.601341</td>\n",
              "      <td>0</td>\n",
              "    </tr>\n",
              "    <tr>\n",
              "      <th>196</th>\n",
              "      <td>99.047112</td>\n",
              "      <td>-0.021979</td>\n",
              "      <td>0</td>\n",
              "    </tr>\n",
              "    <tr>\n",
              "      <th>197</th>\n",
              "      <td>95.801994</td>\n",
              "      <td>-0.285198</td>\n",
              "      <td>0</td>\n",
              "    </tr>\n",
              "    <tr>\n",
              "      <th>198</th>\n",
              "      <td>112.895480</td>\n",
              "      <td>1.101293</td>\n",
              "      <td>0</td>\n",
              "    </tr>\n",
              "    <tr>\n",
              "      <th>199</th>\n",
              "      <td>101.477355</td>\n",
              "      <td>0.175144</td>\n",
              "      <td>0</td>\n",
              "    </tr>\n",
              "  </tbody>\n",
              "</table>\n",
              "</div>"
            ],
            "text/plain": [
              "           Data  Data_zscore  outlier\n",
              "195  106.731770     0.601341        0\n",
              "196   99.047112    -0.021979        0\n",
              "197   95.801994    -0.285198        0\n",
              "198  112.895480     1.101293        0\n",
              "199  101.477355     0.175144        0"
            ]
          },
          "metadata": {
            "tags": []
          },
          "execution_count": 54
        }
      ]
    },
    {
      "cell_type": "markdown",
      "metadata": {
        "id": "zyuYnLCkcrLE"
      },
      "source": [
        "* let's find out the rows at my z_score has classified as outliers"
      ]
    },
    {
      "cell_type": "code",
      "metadata": {
        "id": "d2qZFJ-DcrLF",
        "outputId": "3c9c2c38-140e-4c52-bb37-017dd12eec4e",
        "colab": {
          "base_uri": "https://localhost:8080/",
          "height": 106
        }
      },
      "source": [
        "df.loc[df.outlier == 1]"
      ],
      "execution_count": 55,
      "outputs": [
        {
          "output_type": "execute_result",
          "data": {
            "text/html": [
              "<div>\n",
              "<style scoped>\n",
              "    .dataframe tbody tr th:only-of-type {\n",
              "        vertical-align: middle;\n",
              "    }\n",
              "\n",
              "    .dataframe tbody tr th {\n",
              "        vertical-align: top;\n",
              "    }\n",
              "\n",
              "    .dataframe thead th {\n",
              "        text-align: right;\n",
              "    }\n",
              "</style>\n",
              "<table border=\"1\" class=\"dataframe\">\n",
              "  <thead>\n",
              "    <tr style=\"text-align: right;\">\n",
              "      <th></th>\n",
              "      <th>Data</th>\n",
              "      <th>Data_zscore</th>\n",
              "      <th>outlier</th>\n",
              "    </tr>\n",
              "  </thead>\n",
              "  <tbody>\n",
              "    <tr>\n",
              "      <th>50</th>\n",
              "      <td>-40.0</td>\n",
              "      <td>-11.30040</td>\n",
              "      <td>1</td>\n",
              "    </tr>\n",
              "    <tr>\n",
              "      <th>90</th>\n",
              "      <td>180.0</td>\n",
              "      <td>6.54429</td>\n",
              "      <td>1</td>\n",
              "    </tr>\n",
              "  </tbody>\n",
              "</table>\n",
              "</div>"
            ],
            "text/plain": [
              "     Data  Data_zscore  outlier\n",
              "50  -40.0    -11.30040        1\n",
              "90  180.0      6.54429        1"
            ]
          },
          "metadata": {
            "tags": []
          },
          "execution_count": 55
        }
      ]
    },
    {
      "cell_type": "code",
      "metadata": {
        "id": "8ApaWftdcrLG",
        "outputId": "74a3b85f-5f25-4a5d-f1fb-206465e93726",
        "colab": {
          "base_uri": "https://localhost:8080/"
        }
      },
      "source": [
        "(df.outlier.value_counts())"
      ],
      "execution_count": 56,
      "outputs": [
        {
          "output_type": "execute_result",
          "data": {
            "text/plain": [
              "0    198\n",
              "1      2\n",
              "Name: outlier, dtype: int64"
            ]
          },
          "metadata": {
            "tags": []
          },
          "execution_count": 56
        }
      ]
    },
    {
      "cell_type": "code",
      "metadata": {
        "tags": [],
        "id": "6coDhMSrcrLG",
        "outputId": "3dc7f7cd-f59d-4b86-b0bc-8cc8e52a4755",
        "colab": {
          "base_uri": "https://localhost:8080/"
        }
      },
      "source": [
        "print(\"number of outliers = \" + str(df.outlier.value_counts()[1]))"
      ],
      "execution_count": 57,
      "outputs": [
        {
          "output_type": "stream",
          "text": [
            "number of outliers = 2\n"
          ],
          "name": "stdout"
        }
      ]
    },
    {
      "cell_type": "code",
      "metadata": {
        "id": "Y7HojCF7crLH"
      },
      "source": [
        "def outlier_inspect(df, col, min_z=1, max_z = 5, step = 0.2, max_hist = None, bins = 50):\n",
        "    fig = plt.figure(figsize=(20, 6))\n",
        "    fig.suptitle(col, fontsize=16)\n",
        "    plt.subplot(1,3,1)\n",
        "    if max_hist == None:\n",
        "        sns.histplot(df[col], kde=False, bins = 50)\n",
        "    else :\n",
        "        sns.distplot(df[df[col]<=max_hist][col], kde=False, bins = 50)\n",
        "    plt.subplot(1,3,2)\n",
        "    sns.boxplot(df[col])\n",
        "    plt.subplot(1,3,3)\n",
        "    z_score_inspect = outlier_zscore(df, col, min_z=min_z, max_z = max_z, step = step)\n",
        "    plt.show()"
      ],
      "execution_count": 58,
      "outputs": []
    },
    {
      "cell_type": "code",
      "metadata": {
        "id": "vrJ5XMhlcrLI"
      },
      "source": [
        "def outlier_zscore(df, col, min_z=1, max_z = 5, step = 0.1, print_list = False):\n",
        "    z_scores = df[\"Data_zscore\"]\n",
        "    threshold_list = []\n",
        "    for threshold in np.arange(min_z, max_z, step):\n",
        "        threshold_list.append((threshold, len(np.where(z_scores > threshold)[0])))\n",
        "        df_outlier = pd.DataFrame(threshold_list, columns = ['threshold', 'outlier_count'])\n",
        "        df_outlier['pct'] = (df_outlier.outlier_count - df_outlier.outlier_count.shift(-1))/df_outlier.outlier_count*100\n",
        "    plt.plot(df_outlier.threshold, df_outlier.outlier_count)\n",
        "    best_treshold = round(df_outlier.iloc[df_outlier.pct.argmax(), 0],2)\n",
        "    outlier_limit = int(df[col].dropna().mean() + (df[col].dropna().std()) * df_outlier.iloc[df_outlier.pct.argmax(), 0])\n",
        "    percentile_threshold = stats.percentileofscore(df[col].dropna(), outlier_limit)\n",
        "    plt.vlines(best_treshold, 0, df_outlier.outlier_count.max(), \n",
        "               colors=\"r\", ls = \":\"\n",
        "              )\n",
        "    plt.annotate(\"Zscore : {}\\nValue : {}\\nPercentile : {}\".format(best_treshold, outlier_limit, \n",
        "                                                                   (np.round(percentile_threshold, 3), \n",
        "                                                                    np.round(100-percentile_threshold, 3))), \n",
        "                 (best_treshold, df_outlier.outlier_count.max()/2))\n",
        "    #plt.show()\n",
        "    if print_list:\n",
        "        print(df_outlier)\n",
        "    return (plt, df_outlier, best_treshold, outlier_limit, percentile_threshold)"
      ],
      "execution_count": 59,
      "outputs": []
    },
    {
      "cell_type": "code",
      "metadata": {
        "id": "PtF-Upn6crLJ",
        "outputId": "539ddc82-43c5-4c0c-db2b-276ba4bc4bc0",
        "colab": {
          "base_uri": "https://localhost:8080/",
          "height": 334
        }
      },
      "source": [
        "outlier_inspect(df, \"Data\")"
      ],
      "execution_count": 60,
      "outputs": [
        {
          "output_type": "stream",
          "text": [
            "/usr/local/lib/python3.6/dist-packages/seaborn/_decorators.py:43: FutureWarning: Pass the following variable as a keyword arg: x. From version 0.12, the only valid positional argument will be `data`, and passing other arguments without an explicit keyword will result in an error or misinterpretation.\n",
            "  FutureWarning\n"
          ],
          "name": "stderr"
        },
        {
          "output_type": "display_data",
          "data": {
            "image/png": "[encoded data removed]",
            "text/plain": [
              "<Figure size 1440x432 with 3 Axes>"
            ]
          },
          "metadata": {
            "tags": [],
            "needs_background": "light"
          }
        }
      ]
    },
    {
      "cell_type": "code",
      "metadata": {
        "id": "y0ABASmWcrLJ",
        "outputId": "78a6c480-9319-4bba-a9c7-9f70eb14fa97",
        "colab": {
          "base_uri": "https://localhost:8080/",
          "height": 195
        }
      },
      "source": [
        "df[\"outlier\"] = (abs(df[\"Data_zscore\"])>1).astype(int)\r\n",
        "df.head()"
      ],
      "execution_count": 61,
      "outputs": [
        {
          "output_type": "execute_result",
          "data": {
            "text/html": [
              "<div>\n",
              "<style scoped>\n",
              "    .dataframe tbody tr th:only-of-type {\n",
              "        vertical-align: middle;\n",
              "    }\n",
              "\n",
              "    .dataframe tbody tr th {\n",
              "        vertical-align: top;\n",
              "    }\n",
              "\n",
              "    .dataframe thead th {\n",
              "        text-align: right;\n",
              "    }\n",
              "</style>\n",
              "<table border=\"1\" class=\"dataframe\">\n",
              "  <thead>\n",
              "    <tr style=\"text-align: right;\">\n",
              "      <th></th>\n",
              "      <th>Data</th>\n",
              "      <th>Data_zscore</th>\n",
              "      <th>outlier</th>\n",
              "    </tr>\n",
              "  </thead>\n",
              "  <tbody>\n",
              "    <tr>\n",
              "      <th>0</th>\n",
              "      <td>98.999252</td>\n",
              "      <td>-0.025861</td>\n",
              "      <td>0</td>\n",
              "    </tr>\n",
              "    <tr>\n",
              "      <th>1</th>\n",
              "      <td>101.761689</td>\n",
              "      <td>0.198207</td>\n",
              "      <td>0</td>\n",
              "    </tr>\n",
              "    <tr>\n",
              "      <th>2</th>\n",
              "      <td>103.563648</td>\n",
              "      <td>0.344367</td>\n",
              "      <td>0</td>\n",
              "    </tr>\n",
              "    <tr>\n",
              "      <th>3</th>\n",
              "      <td>100.323880</td>\n",
              "      <td>0.081583</td>\n",
              "      <td>0</td>\n",
              "    </tr>\n",
              "    <tr>\n",
              "      <th>4</th>\n",
              "      <td>104.678870</td>\n",
              "      <td>0.434826</td>\n",
              "      <td>0</td>\n",
              "    </tr>\n",
              "  </tbody>\n",
              "</table>\n",
              "</div>"
            ],
            "text/plain": [
              "         Data  Data_zscore  outlier\n",
              "0   98.999252    -0.025861        0\n",
              "1  101.761689     0.198207        0\n",
              "2  103.563648     0.344367        0\n",
              "3  100.323880     0.081583        0\n",
              "4  104.678870     0.434826        0"
            ]
          },
          "metadata": {
            "tags": []
          },
          "execution_count": 61
        }
      ]
    },
    {
      "cell_type": "code",
      "metadata": {
        "id": "G9GhpdQwhZvw",
        "outputId": "9fca53e3-c0bc-4411-acf7-b9a5c13b091a",
        "colab": {
          "base_uri": "https://localhost:8080/",
          "height": 254
        }
      },
      "source": [
        "df.loc[df.outlier == 1]"
      ],
      "execution_count": 62,
      "outputs": [
        {
          "output_type": "execute_result",
          "data": {
            "text/html": [
              "<div>\n",
              "<style scoped>\n",
              "    .dataframe tbody tr th:only-of-type {\n",
              "        vertical-align: middle;\n",
              "    }\n",
              "\n",
              "    .dataframe tbody tr th {\n",
              "        vertical-align: top;\n",
              "    }\n",
              "\n",
              "    .dataframe thead th {\n",
              "        text-align: right;\n",
              "    }\n",
              "</style>\n",
              "<table border=\"1\" class=\"dataframe\">\n",
              "  <thead>\n",
              "    <tr style=\"text-align: right;\">\n",
              "      <th></th>\n",
              "      <th>Data</th>\n",
              "      <th>Data_zscore</th>\n",
              "      <th>outlier</th>\n",
              "    </tr>\n",
              "  </thead>\n",
              "  <tbody>\n",
              "    <tr>\n",
              "      <th>33</th>\n",
              "      <td>113.189461</td>\n",
              "      <td>1.125139</td>\n",
              "      <td>1</td>\n",
              "    </tr>\n",
              "    <tr>\n",
              "      <th>50</th>\n",
              "      <td>-40.000000</td>\n",
              "      <td>-11.300400</td>\n",
              "      <td>1</td>\n",
              "    </tr>\n",
              "    <tr>\n",
              "      <th>88</th>\n",
              "      <td>86.283250</td>\n",
              "      <td>-1.057284</td>\n",
              "      <td>1</td>\n",
              "    </tr>\n",
              "    <tr>\n",
              "      <th>90</th>\n",
              "      <td>180.000000</td>\n",
              "      <td>6.544290</td>\n",
              "      <td>1</td>\n",
              "    </tr>\n",
              "    <tr>\n",
              "      <th>118</th>\n",
              "      <td>112.757947</td>\n",
              "      <td>1.090138</td>\n",
              "      <td>1</td>\n",
              "    </tr>\n",
              "    <tr>\n",
              "      <th>126</th>\n",
              "      <td>112.470748</td>\n",
              "      <td>1.066842</td>\n",
              "      <td>1</td>\n",
              "    </tr>\n",
              "    <tr>\n",
              "      <th>198</th>\n",
              "      <td>112.895480</td>\n",
              "      <td>1.101293</td>\n",
              "      <td>1</td>\n",
              "    </tr>\n",
              "  </tbody>\n",
              "</table>\n",
              "</div>"
            ],
            "text/plain": [
              "           Data  Data_zscore  outlier\n",
              "33   113.189461     1.125139        1\n",
              "50   -40.000000   -11.300400        1\n",
              "88    86.283250    -1.057284        1\n",
              "90   180.000000     6.544290        1\n",
              "118  112.757947     1.090138        1\n",
              "126  112.470748     1.066842        1\n",
              "198  112.895480     1.101293        1"
            ]
          },
          "metadata": {
            "tags": []
          },
          "execution_count": 62
        }
      ]
    },
    {
      "cell_type": "code",
      "metadata": {
        "id": "Qhpm5okVhpNU",
        "outputId": "4f7a8eeb-7a35-487f-91ad-6e097f229a70",
        "colab": {
          "base_uri": "https://localhost:8080/"
        }
      },
      "source": [
        "print(\"number of outliers = \" + str(df.outlier.value_counts()[1]))"
      ],
      "execution_count": 63,
      "outputs": [
        {
          "output_type": "stream",
          "text": [
            "number of outliers = 7\n"
          ],
          "name": "stdout"
        }
      ]
    },
    {
      "cell_type": "code",
      "metadata": {
        "id": "_BX0RgfKjFRG"
      },
      "source": [
        "df=df.loc[df.outlier == 0]"
      ],
      "execution_count": 64,
      "outputs": []
    },
    {
      "cell_type": "code",
      "metadata": {
        "id": "8zV7-wjSjnfy",
        "outputId": "58e2b718-a2b4-4d6f-cf31-8abc7e9f785a",
        "colab": {
          "base_uri": "https://localhost:8080/",
          "height": 195
        }
      },
      "source": [
        "df.head()"
      ],
      "execution_count": 67,
      "outputs": [
        {
          "output_type": "execute_result",
          "data": {
            "text/html": [
              "<div>\n",
              "<style scoped>\n",
              "    .dataframe tbody tr th:only-of-type {\n",
              "        vertical-align: middle;\n",
              "    }\n",
              "\n",
              "    .dataframe tbody tr th {\n",
              "        vertical-align: top;\n",
              "    }\n",
              "\n",
              "    .dataframe thead th {\n",
              "        text-align: right;\n",
              "    }\n",
              "</style>\n",
              "<table border=\"1\" class=\"dataframe\">\n",
              "  <thead>\n",
              "    <tr style=\"text-align: right;\">\n",
              "      <th></th>\n",
              "      <th>Data</th>\n",
              "      <th>Data_zscore</th>\n",
              "      <th>outlier</th>\n",
              "    </tr>\n",
              "  </thead>\n",
              "  <tbody>\n",
              "    <tr>\n",
              "      <th>0</th>\n",
              "      <td>98.999252</td>\n",
              "      <td>-0.025861</td>\n",
              "      <td>0</td>\n",
              "    </tr>\n",
              "    <tr>\n",
              "      <th>1</th>\n",
              "      <td>101.761689</td>\n",
              "      <td>0.198207</td>\n",
              "      <td>0</td>\n",
              "    </tr>\n",
              "    <tr>\n",
              "      <th>2</th>\n",
              "      <td>103.563648</td>\n",
              "      <td>0.344367</td>\n",
              "      <td>0</td>\n",
              "    </tr>\n",
              "    <tr>\n",
              "      <th>3</th>\n",
              "      <td>100.323880</td>\n",
              "      <td>0.081583</td>\n",
              "      <td>0</td>\n",
              "    </tr>\n",
              "    <tr>\n",
              "      <th>4</th>\n",
              "      <td>104.678870</td>\n",
              "      <td>0.434826</td>\n",
              "      <td>0</td>\n",
              "    </tr>\n",
              "  </tbody>\n",
              "</table>\n",
              "</div>"
            ],
            "text/plain": [
              "         Data  Data_zscore  outlier\n",
              "0   98.999252    -0.025861        0\n",
              "1  101.761689     0.198207        0\n",
              "2  103.563648     0.344367        0\n",
              "3  100.323880     0.081583        0\n",
              "4  104.678870     0.434826        0"
            ]
          },
          "metadata": {
            "tags": []
          },
          "execution_count": 67
        }
      ]
    },
    {
      "cell_type": "code",
      "metadata": {
        "id": "ckj0Aes4jXtE",
        "outputId": "c2208664-057b-492c-c4ab-804ece5bded6",
        "colab": {
          "base_uri": "https://localhost:8080/",
          "height": 47
        }
      },
      "source": [
        "df.loc[df.outlier == 1]"
      ],
      "execution_count": 65,
      "outputs": [
        {
          "output_type": "execute_result",
          "data": {
            "text/html": [
              "<div>\n",
              "<style scoped>\n",
              "    .dataframe tbody tr th:only-of-type {\n",
              "        vertical-align: middle;\n",
              "    }\n",
              "\n",
              "    .dataframe tbody tr th {\n",
              "        vertical-align: top;\n",
              "    }\n",
              "\n",
              "    .dataframe thead th {\n",
              "        text-align: right;\n",
              "    }\n",
              "</style>\n",
              "<table border=\"1\" class=\"dataframe\">\n",
              "  <thead>\n",
              "    <tr style=\"text-align: right;\">\n",
              "      <th></th>\n",
              "      <th>Data</th>\n",
              "      <th>Data_zscore</th>\n",
              "      <th>outlier</th>\n",
              "    </tr>\n",
              "  </thead>\n",
              "  <tbody>\n",
              "  </tbody>\n",
              "</table>\n",
              "</div>"
            ],
            "text/plain": [
              "Empty DataFrame\n",
              "Columns: [Data, Data_zscore, outlier]\n",
              "Index: []"
            ]
          },
          "metadata": {
            "tags": []
          },
          "execution_count": 65
        }
      ]
    },
    {
      "cell_type": "code",
      "metadata": {
        "id": "Gsy68C-pjyfs",
        "outputId": "552be6bb-fe54-4e26-defe-7577adad2055",
        "colab": {
          "base_uri": "https://localhost:8080/"
        }
      },
      "source": [
        "(df.outlier.value_counts())"
      ],
      "execution_count": 68,
      "outputs": [
        {
          "output_type": "execute_result",
          "data": {
            "text/plain": [
              "0    193\n",
              "Name: outlier, dtype: int64"
            ]
          },
          "metadata": {
            "tags": []
          },
          "execution_count": 68
        }
      ]
    },
    {
      "cell_type": "code",
      "metadata": {
        "id": "mgB1Q6pakDyK",
        "outputId": "5630bd9c-fb17-4347-b208-148471d6c0b8",
        "colab": {
          "base_uri": "https://localhost:8080/",
          "height": 279
        }
      },
      "source": [
        "sns.histplot(df[\"Data\"])\r\n",
        "plt.show()"
      ],
      "execution_count": 70,
      "outputs": [
        {
          "output_type": "display_data",
          "data": {
            "image/png": "[encoded data removed]",
            "text/plain": [
              "<Figure size 432x288 with 1 Axes>"
            ]
          },
          "metadata": {
            "tags": [],
            "needs_background": "light"
          }
        }
      ]
    },
    {
      "cell_type": "code",
      "metadata": {
        "id": "6TCfSN69km18"
      },
      "source": [
        ""
      ],
      "execution_count": null,
      "outputs": []
    }
  ]
}