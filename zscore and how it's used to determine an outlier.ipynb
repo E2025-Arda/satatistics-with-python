{
  "nbformat": 4,
  "nbformat_minor": 0,
  "metadata": {
    "language_info": {
      "codemirror_mode": {
        "name": "ipython",
        "version": 3
      },
      "file_extension": ".py",
      "mimetype": "text/x-python",
      "name": "python",
      "nbconvert_exporter": "python",
      "pygments_lexer": "ipython3",
      "version": "3.7.7-final"
    },
    "orig_nbformat": 2,
    "kernelspec": {
      "name": "Python 3.7.7 64-bit ('base': conda)",
      "display_name": "Python 3.7.7 64-bit ('base': conda)",
      "metadata": {
        "interpreter": {
          "hash": "6748257ddfb6c62cfaac10458a5970f1865cdfc8b829bd6d05d7729d55081232"
        }
      }
    },
    "colab": {
      "name": "zscore and how it's used to determine an outlier.ipynb",
      "provenance": [],
      "include_colab_link": true
    }
  },
  "cells": [
    {
      "cell_type": "markdown",
      "metadata": {
        "id": "view-in-github",
        "colab_type": "text"
      },
      "source": [
        "<a href=\"https://colab.research.google.com/github/idenw/statistics-with-python/blob/main/zscore%20and%20how%20it's%20used%20to%20determine%20an%20outlier.ipynb\" target=\"_parent\"><img src=\"https://colab.research.google.com/assets/colab-badge.svg\" alt=\"Open In Colab\"/></a>"
      ]
    },
    {
      "cell_type": "code",
      "metadata": {
        "id": "s8FWu_RxcrKd"
      },
      "source": [
        "import matplotlib.pyplot as plt \n",
        "import numpy as np \n",
        "import pandas as pd \n",
        "import seaborn as sns\n",
        "from scipy import stats "
      ],
      "execution_count": 11,
      "outputs": []
    },
    {
      "cell_type": "markdown",
      "metadata": {
        "id": "_imj2gsbcrKw"
      },
      "source": [
        "https://statistics.laerd.com/statistical-guides/standard-score-4.php"
      ]
    },
    {
      "cell_type": "markdown",
      "metadata": {
        "id": "BJO0ri_XcrKz"
      },
      "source": [
        "https://medium.com/@gulcanogundur/normal-da%C4%9F%C4%B1l%C4%B1m-z-score-ve-standardizasyon-782963bc123e"
      ]
    },
    {
      "cell_type": "code",
      "metadata": {
        "colab": {
          "base_uri": "https://localhost:8080/"
        },
        "id": "36MuF9wJcrK0",
        "outputId": "dd0bec87-156b-41c2-f223-133ad138b4be"
      },
      "source": [
        "mu, sigma = 100, 5\n",
        "array = np.random.normal(mu, sigma, 200) # generate 200 samples, from a normal distubition,centered around the value 100, with a standart deviation of 10\n",
        "array"
      ],
      "execution_count": 12,
      "outputs": [
        {
          "output_type": "execute_result",
          "data": {
            "text/plain": [
              "array([101.75450722,  96.96275494,  96.68231532,  95.10035341,\n",
              "       101.12508876,  97.67353916, 101.81861515,  93.09719832,\n",
              "       100.32647453,  92.27087004, 101.56634402, 102.36140045,\n",
              "        98.8490781 , 101.30561683, 112.04384   , 101.10504268,\n",
              "       103.22296064,  91.02678558, 106.24465285,  99.31347608,\n",
              "        94.16017958, 103.63895292, 103.56974573,  98.41506927,\n",
              "       102.62697759,  91.01980476,  97.72334041,  91.2235243 ,\n",
              "        92.71032738, 107.01294758,  89.9468579 ,  99.9567894 ,\n",
              "       101.62914473, 100.22742226, 100.06872227,  94.92073493,\n",
              "       103.57867175,  98.72684063, 104.01497106, 101.49554418,\n",
              "        90.67583675,  94.76194236,  91.26186682,  97.46803351,\n",
              "        91.59148842, 109.41757004,  96.54844858,  85.77123428,\n",
              "        96.11788662, 101.06990118,  94.33214421,  98.0479031 ,\n",
              "       108.47702136, 100.34725803, 108.79621609,  96.39040013,\n",
              "       106.4296348 ,  99.58235355,  92.52514185,  96.3816934 ,\n",
              "        96.83700832, 101.30634431, 112.00201548,  98.51667463,\n",
              "       105.45899259,  99.44869994,  95.37092355, 101.29340338,\n",
              "        86.57565005, 100.61339155, 102.09419472, 105.56614227,\n",
              "        98.43395539, 109.64578794,  98.66410399,  98.17020911,\n",
              "       110.8320989 , 103.63206037,  94.50815973, 104.24017987,\n",
              "       100.59331603, 100.7532284 ,  98.56507702, 101.09184867,\n",
              "        89.96521971,  96.72328851,  98.80266074, 104.94623252,\n",
              "        98.42262705, 106.80510776,  99.35486687,  90.41214712,\n",
              "        97.48491749,  98.52514525,  99.99856839, 107.08734292,\n",
              "       103.48424178,  89.60389833,  98.27241756, 103.03890144,\n",
              "       107.79608282,  97.51674854,  97.15190133, 104.61527672,\n",
              "        91.69408763, 104.48098062, 102.63228856, 100.72523992,\n",
              "        98.66166626, 100.04310694,  99.04689818,  94.42674329,\n",
              "       109.8668739 ,  95.46361317,  98.31872001, 103.66168632,\n",
              "        98.64943065, 100.65221564,  95.87110401, 104.80466408,\n",
              "       103.06502907, 108.83303186, 104.15533277,  96.32763765,\n",
              "        95.9123146 ,  99.24878326,  94.65547945, 101.12822333,\n",
              "       106.75040777, 100.29105268,  98.48329748,  97.75222689,\n",
              "        96.53141883,  99.7902052 ,  99.9167945 , 101.046692  ,\n",
              "       102.28356957, 104.86765464, 108.10689999, 105.00774755,\n",
              "        96.28260375, 104.97092098, 103.09077959, 100.38452683,\n",
              "        98.7997367 ,  97.21806754,  97.88810616,  95.0350015 ,\n",
              "        99.56525823, 107.32516596,  99.18132292, 102.61830337,\n",
              "       105.02246164,  99.71279331,  95.67612252, 102.3529252 ,\n",
              "       103.16069243, 106.30148912, 102.94195289,  94.05493667,\n",
              "        92.98308983,  99.59839298,  92.13130625, 110.99292307,\n",
              "       100.6153364 ,  99.61982831, 101.40466667,  97.26600862,\n",
              "        99.78247051,  93.11346061,  97.96554236,  98.54559437,\n",
              "        94.09362384, 106.29675155,  94.36270519, 105.51081305,\n",
              "        95.62369722,  98.93516237, 108.4246249 ,  98.16181064,\n",
              "       105.31170142,  95.55069436,  88.27434518,  96.10527178,\n",
              "       102.16636732, 103.50821865,  96.98503451,  98.95140718,\n",
              "       100.1176857 ,  95.43563761,  98.20693971, 108.88852416,\n",
              "        93.17331682,  96.26958254,  97.1850807 , 102.57503641,\n",
              "       100.2684986 ,  98.15507157, 100.32157443,  91.73765056])"
            ]
          },
          "metadata": {
            "tags": []
          },
          "execution_count": 12
        }
      ]
    },
    {
      "cell_type": "code",
      "metadata": {
        "colab": {
          "base_uri": "https://localhost:8080/",
          "height": 265
        },
        "id": "kUrhCWVScrK6",
        "outputId": "db933626-caae-4bc1-e71a-0cadf64bd1d8"
      },
      "source": [
        "sns.histplot(array) # as you see most of values are scattered between the values 40 and 60 as it is obvious that we have chosen a normal distrubition hving an average value of 50 and standart deviaton of 10\n",
        "plt.show()"
      ],
      "execution_count": 14,
      "outputs": [
        {
          "output_type": "display_data",
          "data": {
            "image/png": "[encoded data removed]",
            "text/plain": [
              "<Figure size 432x288 with 1 Axes>"
            ]
          },
          "metadata": {
            "tags": [],
            "needs_background": "light"
          }
        }
      ]
    },
    {
      "cell_type": "code",
      "metadata": {
        "id": "1fVFTvtpcrK8"
      },
      "source": [
        "array[90] = 180\n",
        "array[50] = -40"
      ],
      "execution_count": 15,
      "outputs": []
    },
    {
      "cell_type": "code",
      "metadata": {
        "colab": {
          "base_uri": "https://localhost:8080/",
          "height": 265
        },
        "id": "XbzdHJD5crK9",
        "outputId": "e1fbb58d-bac0-43e7-e849-f1705d599cb3"
      },
      "source": [
        "sns.histplot(array)\r\n",
        "plt.show()"
      ],
      "execution_count": 16,
      "outputs": [
        {
          "output_type": "display_data",
          "data": {
            "image/png": "[encoded data removed]",
            "text/plain": [
              "<Figure size 432x288 with 1 Axes>"
            ]
          },
          "metadata": {
            "tags": [],
            "needs_background": "light"
          }
        }
      ]
    },
    {
      "cell_type": "code",
      "metadata": {
        "colab": {
          "base_uri": "https://localhost:8080/",
          "height": 195
        },
        "id": "qyy4QZ1_crK-",
        "outputId": "56de427d-5c28-4baf-e467-bcfc85dbc6fd"
      },
      "source": [
        "df = pd.DataFrame(array, columns=[\"Data\"]) #create a dataframe from distrubution we have\n",
        "df.head()"
      ],
      "execution_count": 17,
      "outputs": [
        {
          "output_type": "execute_result",
          "data": {
            "text/html": [
              "<div>\n",
              "<style scoped>\n",
              "    .dataframe tbody tr th:only-of-type {\n",
              "        vertical-align: middle;\n",
              "    }\n",
              "\n",
              "    .dataframe tbody tr th {\n",
              "        vertical-align: top;\n",
              "    }\n",
              "\n",
              "    .dataframe thead th {\n",
              "        text-align: right;\n",
              "    }\n",
              "</style>\n",
              "<table border=\"1\" class=\"dataframe\">\n",
              "  <thead>\n",
              "    <tr style=\"text-align: right;\">\n",
              "      <th></th>\n",
              "      <th>Data</th>\n",
              "    </tr>\n",
              "  </thead>\n",
              "  <tbody>\n",
              "    <tr>\n",
              "      <th>0</th>\n",
              "      <td>101.754507</td>\n",
              "    </tr>\n",
              "    <tr>\n",
              "      <th>1</th>\n",
              "      <td>96.962755</td>\n",
              "    </tr>\n",
              "    <tr>\n",
              "      <th>2</th>\n",
              "      <td>96.682315</td>\n",
              "    </tr>\n",
              "    <tr>\n",
              "      <th>3</th>\n",
              "      <td>95.100353</td>\n",
              "    </tr>\n",
              "    <tr>\n",
              "      <th>4</th>\n",
              "      <td>101.125089</td>\n",
              "    </tr>\n",
              "  </tbody>\n",
              "</table>\n",
              "</div>"
            ],
            "text/plain": [
              "         Data\n",
              "0  101.754507\n",
              "1   96.962755\n",
              "2   96.682315\n",
              "3   95.100353\n",
              "4  101.125089"
            ]
          },
          "metadata": {
            "tags": []
          },
          "execution_count": 17
        }
      ]
    },
    {
      "cell_type": "markdown",
      "metadata": {
        "id": "d5fkKggocrK-"
      },
      "source": [
        "# Calculating the z_score"
      ]
    },
    {
      "cell_type": "code",
      "metadata": {
        "colab": {
          "base_uri": "https://localhost:8080/",
          "height": 195
        },
        "id": "n7tTyytIcrK_",
        "outputId": "5ed3d644-bf87-4dbb-d3d8-e87f0296f007"
      },
      "source": [
        "for col in df.columns:\n",
        "    col_zscore = col + \"_zscore\"\n",
        "    df[col_zscore] = (df[col] - df[col].mean())/df[col].std(ddof=0)\n",
        "df.head()\n",
        "# creating a new column in my dataframe, which would be called \"data_zscore\" where I take the row value and I subtract that columns mean from that row value and divide by the standard deviation of that column "
      ],
      "execution_count": 18,
      "outputs": [
        {
          "output_type": "execute_result",
          "data": {
            "text/html": [
              "<div>\n",
              "<style scoped>\n",
              "    .dataframe tbody tr th:only-of-type {\n",
              "        vertical-align: middle;\n",
              "    }\n",
              "\n",
              "    .dataframe tbody tr th {\n",
              "        vertical-align: top;\n",
              "    }\n",
              "\n",
              "    .dataframe thead th {\n",
              "        text-align: right;\n",
              "    }\n",
              "</style>\n",
              "<table border=\"1\" class=\"dataframe\">\n",
              "  <thead>\n",
              "    <tr style=\"text-align: right;\">\n",
              "      <th></th>\n",
              "      <th>Data</th>\n",
              "      <th>Data_zscore</th>\n",
              "    </tr>\n",
              "  </thead>\n",
              "  <tbody>\n",
              "    <tr>\n",
              "      <th>0</th>\n",
              "      <td>101.754507</td>\n",
              "      <td>0.190666</td>\n",
              "    </tr>\n",
              "    <tr>\n",
              "      <th>1</th>\n",
              "      <td>96.962755</td>\n",
              "      <td>-0.194420</td>\n",
              "    </tr>\n",
              "    <tr>\n",
              "      <th>2</th>\n",
              "      <td>96.682315</td>\n",
              "      <td>-0.216957</td>\n",
              "    </tr>\n",
              "    <tr>\n",
              "      <th>3</th>\n",
              "      <td>95.100353</td>\n",
              "      <td>-0.344091</td>\n",
              "    </tr>\n",
              "    <tr>\n",
              "      <th>4</th>\n",
              "      <td>101.125089</td>\n",
              "      <td>0.140083</td>\n",
              "    </tr>\n",
              "  </tbody>\n",
              "</table>\n",
              "</div>"
            ],
            "text/plain": [
              "         Data  Data_zscore\n",
              "0  101.754507     0.190666\n",
              "1   96.962755    -0.194420\n",
              "2   96.682315    -0.216957\n",
              "3   95.100353    -0.344091\n",
              "4  101.125089     0.140083"
            ]
          },
          "metadata": {
            "tags": []
          },
          "execution_count": 18
        }
      ]
    },
    {
      "cell_type": "code",
      "metadata": {
        "colab": {
          "base_uri": "https://localhost:8080/",
          "height": 195
        },
        "id": "Odbp-G_kfZiM",
        "outputId": "325488d8-1ce7-4f75-839a-efac40baae0e"
      },
      "source": [
        "df.head()"
      ],
      "execution_count": 19,
      "outputs": [
        {
          "output_type": "execute_result",
          "data": {
            "text/html": [
              "<div>\n",
              "<style scoped>\n",
              "    .dataframe tbody tr th:only-of-type {\n",
              "        vertical-align: middle;\n",
              "    }\n",
              "\n",
              "    .dataframe tbody tr th {\n",
              "        vertical-align: top;\n",
              "    }\n",
              "\n",
              "    .dataframe thead th {\n",
              "        text-align: right;\n",
              "    }\n",
              "</style>\n",
              "<table border=\"1\" class=\"dataframe\">\n",
              "  <thead>\n",
              "    <tr style=\"text-align: right;\">\n",
              "      <th></th>\n",
              "      <th>Data</th>\n",
              "      <th>Data_zscore</th>\n",
              "    </tr>\n",
              "  </thead>\n",
              "  <tbody>\n",
              "    <tr>\n",
              "      <th>0</th>\n",
              "      <td>101.754507</td>\n",
              "      <td>0.190666</td>\n",
              "    </tr>\n",
              "    <tr>\n",
              "      <th>1</th>\n",
              "      <td>96.962755</td>\n",
              "      <td>-0.194420</td>\n",
              "    </tr>\n",
              "    <tr>\n",
              "      <th>2</th>\n",
              "      <td>96.682315</td>\n",
              "      <td>-0.216957</td>\n",
              "    </tr>\n",
              "    <tr>\n",
              "      <th>3</th>\n",
              "      <td>95.100353</td>\n",
              "      <td>-0.344091</td>\n",
              "    </tr>\n",
              "    <tr>\n",
              "      <th>4</th>\n",
              "      <td>101.125089</td>\n",
              "      <td>0.140083</td>\n",
              "    </tr>\n",
              "  </tbody>\n",
              "</table>\n",
              "</div>"
            ],
            "text/plain": [
              "         Data  Data_zscore\n",
              "0  101.754507     0.190666\n",
              "1   96.962755    -0.194420\n",
              "2   96.682315    -0.216957\n",
              "3   95.100353    -0.344091\n",
              "4  101.125089     0.140083"
            ]
          },
          "metadata": {
            "tags": []
          },
          "execution_count": 19
        }
      ]
    },
    {
      "cell_type": "code",
      "metadata": {
        "id": "5h0smfBzcrLA"
      },
      "source": [
        ""
      ],
      "execution_count": 19,
      "outputs": []
    },
    {
      "cell_type": "markdown",
      "metadata": {
        "id": "YJyMNcR7crLA"
      },
      "source": [
        "pandas.DataFrame.std\n",
        "DataFrame.std(axis=None, skipna=None, level=None, ddof=1, numeric_only=None, **kwargs)[source]¶\n",
        "Return sample standard deviation over requested axis.\n",
        "\n",
        "Normalized by N-1 by default. This can be changed using the ddof argument\n",
        "\n",
        "Parameters\n",
        "axis{index (0), columns (1)}\n",
        "skipnabool, default True\n",
        "Exclude NA/null values. If an entire row/column is NA, the result will be NA.\n",
        "\n",
        "levelint or level name, default None\n",
        "If the axis is a MultiIndex (hierarchical), count along a particular level, collapsing into a Series.\n",
        "\n",
        "ddofint, default 1\n",
        "Delta Degrees of Freedom. The divisor used in calculations is N - ddof, where N represents the number of elements.\n",
        "\n",
        "numeric_onlybool, default None\n",
        "Include only float, int, boolean columns. If None, will attempt to use everything, then use only numeric data. Not implemented for Series.\n",
        "\n",
        "Returns\n",
        "Series or DataFrame (if level specified)"
      ]
    },
    {
      "cell_type": "markdown",
      "metadata": {
        "id": "-1S0BXuecrLB"
      },
      "source": [
        "* Z-Score is essentially how many standart deviations away is my actual value from the mean value based on the business context, you can define the threshold value for the z score to classify a point as an outlier or not in the current scheme of things."
      ]
    },
    {
      "cell_type": "code",
      "metadata": {
        "id": "3YRT_Un3crLC"
      },
      "source": [
        "df[\"outlier\"] = (abs(df[\"Data_zscore\"])>3).astype(int)"
      ],
      "execution_count": 20,
      "outputs": []
    },
    {
      "cell_type": "markdown",
      "metadata": {
        "id": "BdCv899GcrLC"
      },
      "source": [
        "dataframe.abs() is one of the simplest pandas dataframe function. It returns an object with absolute value taken and it is only applicable to objects that are all numeric. It does not work with any Nan value either. abs() function can also be used with complex numbers to find their absolute value."
      ]
    },
    {
      "cell_type": "code",
      "metadata": {
        "colab": {
          "base_uri": "https://localhost:8080/",
          "height": 195
        },
        "id": "ULOVF0vNcrLD",
        "outputId": "03dbaa27-a36d-4929-f2a5-9cec212fa8e8"
      },
      "source": [
        "df.tail() # actual data column,\tData_zscore,outlier"
      ],
      "execution_count": 21,
      "outputs": [
        {
          "output_type": "execute_result",
          "data": {
            "text/html": [
              "<div>\n",
              "<style scoped>\n",
              "    .dataframe tbody tr th:only-of-type {\n",
              "        vertical-align: middle;\n",
              "    }\n",
              "\n",
              "    .dataframe tbody tr th {\n",
              "        vertical-align: top;\n",
              "    }\n",
              "\n",
              "    .dataframe thead th {\n",
              "        text-align: right;\n",
              "    }\n",
              "</style>\n",
              "<table border=\"1\" class=\"dataframe\">\n",
              "  <thead>\n",
              "    <tr style=\"text-align: right;\">\n",
              "      <th></th>\n",
              "      <th>Data</th>\n",
              "      <th>Data_zscore</th>\n",
              "      <th>outlier</th>\n",
              "    </tr>\n",
              "  </thead>\n",
              "  <tbody>\n",
              "    <tr>\n",
              "      <th>195</th>\n",
              "      <td>102.575036</td>\n",
              "      <td>0.256607</td>\n",
              "      <td>0</td>\n",
              "    </tr>\n",
              "    <tr>\n",
              "      <th>196</th>\n",
              "      <td>100.268499</td>\n",
              "      <td>0.071244</td>\n",
              "      <td>0</td>\n",
              "    </tr>\n",
              "    <tr>\n",
              "      <th>197</th>\n",
              "      <td>98.155072</td>\n",
              "      <td>-0.098600</td>\n",
              "      <td>0</td>\n",
              "    </tr>\n",
              "    <tr>\n",
              "      <th>198</th>\n",
              "      <td>100.321574</td>\n",
              "      <td>0.075509</td>\n",
              "      <td>0</td>\n",
              "    </tr>\n",
              "    <tr>\n",
              "      <th>199</th>\n",
              "      <td>91.737651</td>\n",
              "      <td>-0.614332</td>\n",
              "      <td>0</td>\n",
              "    </tr>\n",
              "  </tbody>\n",
              "</table>\n",
              "</div>"
            ],
            "text/plain": [
              "           Data  Data_zscore  outlier\n",
              "195  102.575036     0.256607        0\n",
              "196  100.268499     0.071244        0\n",
              "197   98.155072    -0.098600        0\n",
              "198  100.321574     0.075509        0\n",
              "199   91.737651    -0.614332        0"
            ]
          },
          "metadata": {
            "tags": []
          },
          "execution_count": 21
        }
      ]
    },
    {
      "cell_type": "markdown",
      "metadata": {
        "id": "zyuYnLCkcrLE"
      },
      "source": [
        "* let's find out the rows at my z_score has classified as outliers"
      ]
    },
    {
      "cell_type": "code",
      "metadata": {
        "colab": {
          "base_uri": "https://localhost:8080/",
          "height": 106
        },
        "id": "d2qZFJ-DcrLF",
        "outputId": "9a1e2105-ff99-4510-e265-81e59acb03e8"
      },
      "source": [
        "df.loc[df.outlier == 1]"
      ],
      "execution_count": 22,
      "outputs": [
        {
          "output_type": "execute_result",
          "data": {
            "text/html": [
              "<div>\n",
              "<style scoped>\n",
              "    .dataframe tbody tr th:only-of-type {\n",
              "        vertical-align: middle;\n",
              "    }\n",
              "\n",
              "    .dataframe tbody tr th {\n",
              "        vertical-align: top;\n",
              "    }\n",
              "\n",
              "    .dataframe thead th {\n",
              "        text-align: right;\n",
              "    }\n",
              "</style>\n",
              "<table border=\"1\" class=\"dataframe\">\n",
              "  <thead>\n",
              "    <tr style=\"text-align: right;\">\n",
              "      <th></th>\n",
              "      <th>Data</th>\n",
              "      <th>Data_zscore</th>\n",
              "      <th>outlier</th>\n",
              "    </tr>\n",
              "  </thead>\n",
              "  <tbody>\n",
              "    <tr>\n",
              "      <th>50</th>\n",
              "      <td>-40.0</td>\n",
              "      <td>-11.201343</td>\n",
              "      <td>1</td>\n",
              "    </tr>\n",
              "    <tr>\n",
              "      <th>90</th>\n",
              "      <td>180.0</td>\n",
              "      <td>6.478814</td>\n",
              "      <td>1</td>\n",
              "    </tr>\n",
              "  </tbody>\n",
              "</table>\n",
              "</div>"
            ],
            "text/plain": [
              "     Data  Data_zscore  outlier\n",
              "50  -40.0   -11.201343        1\n",
              "90  180.0     6.478814        1"
            ]
          },
          "metadata": {
            "tags": []
          },
          "execution_count": 22
        }
      ]
    },
    {
      "cell_type": "code",
      "metadata": {
        "colab": {
          "base_uri": "https://localhost:8080/"
        },
        "id": "8ApaWftdcrLG",
        "outputId": "510aca76-2e8a-4512-fe4b-6a3e9d42968b"
      },
      "source": [
        "(df.outlier.value_counts())"
      ],
      "execution_count": 23,
      "outputs": [
        {
          "output_type": "execute_result",
          "data": {
            "text/plain": [
              "0    198\n",
              "1      2\n",
              "Name: outlier, dtype: int64"
            ]
          },
          "metadata": {
            "tags": []
          },
          "execution_count": 23
        }
      ]
    },
    {
      "cell_type": "code",
      "metadata": {
        "tags": [],
        "colab": {
          "base_uri": "https://localhost:8080/"
        },
        "id": "6coDhMSrcrLG",
        "outputId": "1e736594-5c5a-4a5d-f6bb-95f504a43fc5"
      },
      "source": [
        "print(\"number of outliers = \" + str(df.outlier.value_counts()[1]))"
      ],
      "execution_count": 24,
      "outputs": [
        {
          "output_type": "stream",
          "text": [
            "number of outliers = 2\n"
          ],
          "name": "stdout"
        }
      ]
    },
    {
      "cell_type": "code",
      "metadata": {
        "id": "Y7HojCF7crLH"
      },
      "source": [
        "def outlier_inspect(df, col, min_z=1, max_z = 5, step = 0.2, max_hist = None, bins = 50):\n",
        "    fig = plt.figure(figsize=(20, 6))\n",
        "    fig.suptitle(col, fontsize=16)\n",
        "    plt.subplot(1,3,1)\n",
        "    if max_hist == None:\n",
        "        sns.histplot(df[col], kde=False, bins = 50,color=\"r\")\n",
        "    else :\n",
        "        sns.distplot(df[df[col]<=max_hist][col], kde=False, bins = 50)\n",
        "    plt.subplot(1,3,2)\n",
        "    sns.boxplot(df[col])\n",
        "    plt.subplot(1,3,3)\n",
        "    z_score_inspect = outlier_zscore(df, col, min_z=min_z, max_z = max_z, step = step)\n",
        "    plt.show()"
      ],
      "execution_count": 25,
      "outputs": []
    },
    {
      "cell_type": "code",
      "metadata": {
        "id": "vrJ5XMhlcrLI"
      },
      "source": [
        "def outlier_zscore(df, col, min_z=1, max_z = 5, step = 0.1, print_list = False):\n",
        "    z_scores = df[\"Data_zscore\"]\n",
        "    threshold_list = []\n",
        "    for threshold in np.arange(min_z, max_z, step):\n",
        "        threshold_list.append((threshold, len(np.where(z_scores > threshold)[0])))\n",
        "        df_outlier = pd.DataFrame(threshold_list, columns = ['threshold', 'outlier_count'])\n",
        "        df_outlier['pct'] = (df_outlier.outlier_count - df_outlier.outlier_count.shift(-1))/df_outlier.outlier_count*100\n",
        "    plt.plot(df_outlier.threshold, df_outlier.outlier_count)\n",
        "    best_treshold = round(df_outlier.iloc[df_outlier.pct.argmax(), 0],2)\n",
        "    outlier_limit = int(df[col].dropna().mean() + (df[col].dropna().std()) * df_outlier.iloc[df_outlier.pct.argmax(), 0])\n",
        "    percentile_threshold = stats.percentileofscore(df[col].dropna(), outlier_limit)\n",
        "    plt.vlines(best_treshold, 0, df_outlier.outlier_count.max(), \n",
        "               colors=\"r\", ls = \":\"\n",
        "              )\n",
        "    plt.annotate(\"Zscore : {}\\nValue : {}\\nPercentile : {}\".format(best_treshold, outlier_limit, \n",
        "                                                                   (np.round(percentile_threshold, 3), \n",
        "                                                                    np.round(100-percentile_threshold, 3))), \n",
        "                 (best_treshold, df_outlier.outlier_count.max()/2))\n",
        "    #plt.show()\n",
        "    if print_list:\n",
        "        print(df_outlier)\n",
        "    return (plt, df_outlier, best_treshold, outlier_limit, percentile_threshold)"
      ],
      "execution_count": 26,
      "outputs": []
    },
    {
      "cell_type": "code",
      "metadata": {
        "colab": {
          "base_uri": "https://localhost:8080/",
          "height": 334
        },
        "id": "PtF-Upn6crLJ",
        "outputId": "1dd663fe-64ce-49ba-c1e3-49b1ce518420"
      },
      "source": [
        "outlier_inspect(df,\"Data\")"
      ],
      "execution_count": 27,
      "outputs": [
        {
          "output_type": "stream",
          "text": [
            "/usr/local/lib/python3.6/dist-packages/seaborn/_decorators.py:43: FutureWarning: Pass the following variable as a keyword arg: x. From version 0.12, the only valid positional argument will be `data`, and passing other arguments without an explicit keyword will result in an error or misinterpretation.\n",
            "  FutureWarning\n"
          ],
          "name": "stderr"
        },
        {
          "output_type": "display_data",
          "data": {
            "image/png": "[encoded data removed]",
            "text/plain": [
              "<Figure size 1440x432 with 3 Axes>"
            ]
          },
          "metadata": {
            "tags": [],
            "needs_background": "light"
          }
        }
      ]
    },
    {
      "cell_type": "code",
      "metadata": {
        "colab": {
          "base_uri": "https://localhost:8080/",
          "height": 195
        },
        "id": "y0ABASmWcrLJ",
        "outputId": "3a225700-e728-452e-f5c8-b7a2aef44f71"
      },
      "source": [
        "df[\"outlier\"] = (abs(df[\"Data_zscore\"])>1).astype(int)\r\n",
        "df.head()"
      ],
      "execution_count": 28,
      "outputs": [
        {
          "output_type": "execute_result",
          "data": {
            "text/html": [
              "<div>\n",
              "<style scoped>\n",
              "    .dataframe tbody tr th:only-of-type {\n",
              "        vertical-align: middle;\n",
              "    }\n",
              "\n",
              "    .dataframe tbody tr th {\n",
              "        vertical-align: top;\n",
              "    }\n",
              "\n",
              "    .dataframe thead th {\n",
              "        text-align: right;\n",
              "    }\n",
              "</style>\n",
              "<table border=\"1\" class=\"dataframe\">\n",
              "  <thead>\n",
              "    <tr style=\"text-align: right;\">\n",
              "      <th></th>\n",
              "      <th>Data</th>\n",
              "      <th>Data_zscore</th>\n",
              "      <th>outlier</th>\n",
              "    </tr>\n",
              "  </thead>\n",
              "  <tbody>\n",
              "    <tr>\n",
              "      <th>0</th>\n",
              "      <td>101.754507</td>\n",
              "      <td>0.190666</td>\n",
              "      <td>0</td>\n",
              "    </tr>\n",
              "    <tr>\n",
              "      <th>1</th>\n",
              "      <td>96.962755</td>\n",
              "      <td>-0.194420</td>\n",
              "      <td>0</td>\n",
              "    </tr>\n",
              "    <tr>\n",
              "      <th>2</th>\n",
              "      <td>96.682315</td>\n",
              "      <td>-0.216957</td>\n",
              "      <td>0</td>\n",
              "    </tr>\n",
              "    <tr>\n",
              "      <th>3</th>\n",
              "      <td>95.100353</td>\n",
              "      <td>-0.344091</td>\n",
              "      <td>0</td>\n",
              "    </tr>\n",
              "    <tr>\n",
              "      <th>4</th>\n",
              "      <td>101.125089</td>\n",
              "      <td>0.140083</td>\n",
              "      <td>0</td>\n",
              "    </tr>\n",
              "  </tbody>\n",
              "</table>\n",
              "</div>"
            ],
            "text/plain": [
              "         Data  Data_zscore  outlier\n",
              "0  101.754507     0.190666        0\n",
              "1   96.962755    -0.194420        0\n",
              "2   96.682315    -0.216957        0\n",
              "3   95.100353    -0.344091        0\n",
              "4  101.125089     0.140083        0"
            ]
          },
          "metadata": {
            "tags": []
          },
          "execution_count": 28
        }
      ]
    },
    {
      "cell_type": "code",
      "metadata": {
        "colab": {
          "base_uri": "https://localhost:8080/",
          "height": 225
        },
        "id": "G9GhpdQwhZvw",
        "outputId": "9b28f1a8-2fbb-4470-85d0-78caccb72696"
      },
      "source": [
        "df.loc[df.outlier == 1]"
      ],
      "execution_count": 29,
      "outputs": [
        {
          "output_type": "execute_result",
          "data": {
            "text/html": [
              "<div>\n",
              "<style scoped>\n",
              "    .dataframe tbody tr th:only-of-type {\n",
              "        vertical-align: middle;\n",
              "    }\n",
              "\n",
              "    .dataframe tbody tr th {\n",
              "        vertical-align: top;\n",
              "    }\n",
              "\n",
              "    .dataframe thead th {\n",
              "        text-align: right;\n",
              "    }\n",
              "</style>\n",
              "<table border=\"1\" class=\"dataframe\">\n",
              "  <thead>\n",
              "    <tr style=\"text-align: right;\">\n",
              "      <th></th>\n",
              "      <th>Data</th>\n",
              "      <th>Data_zscore</th>\n",
              "      <th>outlier</th>\n",
              "    </tr>\n",
              "  </thead>\n",
              "  <tbody>\n",
              "    <tr>\n",
              "      <th>14</th>\n",
              "      <td>112.043840</td>\n",
              "      <td>1.017562</td>\n",
              "      <td>1</td>\n",
              "    </tr>\n",
              "    <tr>\n",
              "      <th>47</th>\n",
              "      <td>85.771234</td>\n",
              "      <td>-1.093819</td>\n",
              "      <td>1</td>\n",
              "    </tr>\n",
              "    <tr>\n",
              "      <th>50</th>\n",
              "      <td>-40.000000</td>\n",
              "      <td>-11.201343</td>\n",
              "      <td>1</td>\n",
              "    </tr>\n",
              "    <tr>\n",
              "      <th>62</th>\n",
              "      <td>112.002015</td>\n",
              "      <td>1.014200</td>\n",
              "      <td>1</td>\n",
              "    </tr>\n",
              "    <tr>\n",
              "      <th>68</th>\n",
              "      <td>86.575650</td>\n",
              "      <td>-1.029173</td>\n",
              "      <td>1</td>\n",
              "    </tr>\n",
              "    <tr>\n",
              "      <th>90</th>\n",
              "      <td>180.000000</td>\n",
              "      <td>6.478814</td>\n",
              "      <td>1</td>\n",
              "    </tr>\n",
              "  </tbody>\n",
              "</table>\n",
              "</div>"
            ],
            "text/plain": [
              "          Data  Data_zscore  outlier\n",
              "14  112.043840     1.017562        1\n",
              "47   85.771234    -1.093819        1\n",
              "50  -40.000000   -11.201343        1\n",
              "62  112.002015     1.014200        1\n",
              "68   86.575650    -1.029173        1\n",
              "90  180.000000     6.478814        1"
            ]
          },
          "metadata": {
            "tags": []
          },
          "execution_count": 29
        }
      ]
    },
    {
      "cell_type": "code",
      "metadata": {
        "colab": {
          "base_uri": "https://localhost:8080/"
        },
        "id": "Qhpm5okVhpNU",
        "outputId": "f3ed8697-d902-47b8-a1e6-914fe8901504"
      },
      "source": [
        "print(\"number of outliers = \" + str(df.outlier.value_counts()[1]))"
      ],
      "execution_count": 30,
      "outputs": [
        {
          "output_type": "stream",
          "text": [
            "number of outliers = 6\n"
          ],
          "name": "stdout"
        }
      ]
    },
    {
      "cell_type": "code",
      "metadata": {
        "id": "_BX0RgfKjFRG"
      },
      "source": [
        "df=df.loc[df.outlier == 0]"
      ],
      "execution_count": 31,
      "outputs": []
    },
    {
      "cell_type": "code",
      "metadata": {
        "colab": {
          "base_uri": "https://localhost:8080/",
          "height": 195
        },
        "id": "8zV7-wjSjnfy",
        "outputId": "9034ef29-47b8-4456-cb41-7cd5e5ba5d06"
      },
      "source": [
        "df.head()"
      ],
      "execution_count": 32,
      "outputs": [
        {
          "output_type": "execute_result",
          "data": {
            "text/html": [
              "<div>\n",
              "<style scoped>\n",
              "    .dataframe tbody tr th:only-of-type {\n",
              "        vertical-align: middle;\n",
              "    }\n",
              "\n",
              "    .dataframe tbody tr th {\n",
              "        vertical-align: top;\n",
              "    }\n",
              "\n",
              "    .dataframe thead th {\n",
              "        text-align: right;\n",
              "    }\n",
              "</style>\n",
              "<table border=\"1\" class=\"dataframe\">\n",
              "  <thead>\n",
              "    <tr style=\"text-align: right;\">\n",
              "      <th></th>\n",
              "      <th>Data</th>\n",
              "      <th>Data_zscore</th>\n",
              "      <th>outlier</th>\n",
              "    </tr>\n",
              "  </thead>\n",
              "  <tbody>\n",
              "    <tr>\n",
              "      <th>0</th>\n",
              "      <td>101.754507</td>\n",
              "      <td>0.190666</td>\n",
              "      <td>0</td>\n",
              "    </tr>\n",
              "    <tr>\n",
              "      <th>1</th>\n",
              "      <td>96.962755</td>\n",
              "      <td>-0.194420</td>\n",
              "      <td>0</td>\n",
              "    </tr>\n",
              "    <tr>\n",
              "      <th>2</th>\n",
              "      <td>96.682315</td>\n",
              "      <td>-0.216957</td>\n",
              "      <td>0</td>\n",
              "    </tr>\n",
              "    <tr>\n",
              "      <th>3</th>\n",
              "      <td>95.100353</td>\n",
              "      <td>-0.344091</td>\n",
              "      <td>0</td>\n",
              "    </tr>\n",
              "    <tr>\n",
              "      <th>4</th>\n",
              "      <td>101.125089</td>\n",
              "      <td>0.140083</td>\n",
              "      <td>0</td>\n",
              "    </tr>\n",
              "  </tbody>\n",
              "</table>\n",
              "</div>"
            ],
            "text/plain": [
              "         Data  Data_zscore  outlier\n",
              "0  101.754507     0.190666        0\n",
              "1   96.962755    -0.194420        0\n",
              "2   96.682315    -0.216957        0\n",
              "3   95.100353    -0.344091        0\n",
              "4  101.125089     0.140083        0"
            ]
          },
          "metadata": {
            "tags": []
          },
          "execution_count": 32
        }
      ]
    },
    {
      "cell_type": "code",
      "metadata": {
        "colab": {
          "base_uri": "https://localhost:8080/",
          "height": 47
        },
        "id": "ckj0Aes4jXtE",
        "outputId": "d71c811a-78e8-4cc1-b282-c534288c66c6"
      },
      "source": [
        "df.loc[df.outlier == 1]"
      ],
      "execution_count": 33,
      "outputs": [
        {
          "output_type": "execute_result",
          "data": {
            "text/html": [
              "<div>\n",
              "<style scoped>\n",
              "    .dataframe tbody tr th:only-of-type {\n",
              "        vertical-align: middle;\n",
              "    }\n",
              "\n",
              "    .dataframe tbody tr th {\n",
              "        vertical-align: top;\n",
              "    }\n",
              "\n",
              "    .dataframe thead th {\n",
              "        text-align: right;\n",
              "    }\n",
              "</style>\n",
              "<table border=\"1\" class=\"dataframe\">\n",
              "  <thead>\n",
              "    <tr style=\"text-align: right;\">\n",
              "      <th></th>\n",
              "      <th>Data</th>\n",
              "      <th>Data_zscore</th>\n",
              "      <th>outlier</th>\n",
              "    </tr>\n",
              "  </thead>\n",
              "  <tbody>\n",
              "  </tbody>\n",
              "</table>\n",
              "</div>"
            ],
            "text/plain": [
              "Empty DataFrame\n",
              "Columns: [Data, Data_zscore, outlier]\n",
              "Index: []"
            ]
          },
          "metadata": {
            "tags": []
          },
          "execution_count": 33
        }
      ]
    },
    {
      "cell_type": "code",
      "metadata": {
        "colab": {
          "base_uri": "https://localhost:8080/"
        },
        "id": "Gsy68C-pjyfs",
        "outputId": "d3eef5cc-817a-4d46-9d69-fd4cee82f5ee"
      },
      "source": [
        "(df.outlier.value_counts())"
      ],
      "execution_count": 34,
      "outputs": [
        {
          "output_type": "execute_result",
          "data": {
            "text/plain": [
              "0    194\n",
              "Name: outlier, dtype: int64"
            ]
          },
          "metadata": {
            "tags": []
          },
          "execution_count": 34
        }
      ]
    },
    {
      "cell_type": "code",
      "metadata": {
        "colab": {
          "base_uri": "https://localhost:8080/",
          "height": 279
        },
        "id": "mgB1Q6pakDyK",
        "outputId": "101775a2-fb96-406d-d988-e48fa4db2892"
      },
      "source": [
        "sns.histplot(df[\"Data\"])\r\n",
        "plt.show()"
      ],
      "execution_count": 35,
      "outputs": [
        {
          "output_type": "display_data",
          "data": {
            "image/png": "[encoded data removed]",
            "text/plain": [
              "<Figure size 432x288 with 1 Axes>"
            ]
          },
          "metadata": {
            "tags": [],
            "needs_background": "light"
          }
        }
      ]
    },
    {
      "cell_type": "code",
      "metadata": {
        "id": "6TCfSN69km18"
      },
      "source": [
        ""
      ],
      "execution_count": 35,
      "outputs": []
    }
  ]
}