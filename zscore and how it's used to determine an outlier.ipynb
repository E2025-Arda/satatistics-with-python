{
  "nbformat": 4,
  "nbformat_minor": 0,
  "metadata": {
    "language_info": {
      "codemirror_mode": {
        "name": "ipython",
        "version": 3
      },
      "file_extension": ".py",
      "mimetype": "text/x-python",
      "name": "python",
      "nbconvert_exporter": "python",
      "pygments_lexer": "ipython3",
      "version": "3.7.7-final"
    },
    "orig_nbformat": 2,
    "kernelspec": {
      "name": "Python 3.7.7 64-bit ('base': conda)",
      "display_name": "Python 3.7.7 64-bit ('base': conda)",
      "metadata": {
        "interpreter": {
          "hash": "6748257ddfb6c62cfaac10458a5970f1865cdfc8b829bd6d05d7729d55081232"
        }
      }
    },
    "colab": {
      "name": "zscore and how it's used to determine an outlier.ipynb",
      "provenance": [],
      "include_colab_link": true
    }
  },
  "cells": [
    {
      "cell_type": "markdown",
      "metadata": {
        "id": "view-in-github",
        "colab_type": "text"
      },
      "source": [
        "<a href=\"https://colab.research.google.com/github/idenw/statistics-with-python/blob/main/zscore%20and%20how%20it's%20used%20to%20determine%20an%20outlier.ipynb\" target=\"_parent\"><img src=\"https://colab.research.google.com/assets/colab-badge.svg\" alt=\"Open In Colab\"/></a>"
      ]
    },
    {
      "cell_type": "code",
      "metadata": {
        "id": "s8FWu_RxcrKd"
      },
      "source": [
        "import matplotlib.pyplot as plt \n",
        "import numpy as np \n",
        "import pandas as pd \n",
        "import seaborn as sns\n",
        "from scipy import stats "
      ],
      "execution_count": 1,
      "outputs": []
    },
    {
      "cell_type": "markdown",
      "metadata": {
        "id": "_imj2gsbcrKw"
      },
      "source": [
        "https://statistics.laerd.com/statistical-guides/standard-score-4.php"
      ]
    },
    {
      "cell_type": "markdown",
      "metadata": {
        "id": "BJO0ri_XcrKz"
      },
      "source": [
        "https://medium.com/@gulcanogundur/normal-da%C4%9F%C4%B1l%C4%B1m-z-score-ve-standardizasyon-782963bc123e"
      ]
    },
    {
      "cell_type": "code",
      "metadata": {
        "id": "36MuF9wJcrK0"
      },
      "source": [
        "mu, sigma = 100, 5\n",
        "s= np.random.normal(mu, sigma, 200) # generate 200 samples, from a normal distubition,centered around the value 100, with a standart deviation of 10"
      ],
      "execution_count": 2,
      "outputs": []
    },
    {
      "cell_type": "code",
      "metadata": {
        "colab": {
          "base_uri": "https://localhost:8080/"
        },
        "id": "aXSIgl-5crK1",
        "outputId": "c41c783b-1cea-4576-e958-f0d07477ba9b"
      },
      "source": [
        "s"
      ],
      "execution_count": 3,
      "outputs": [
        {
          "output_type": "execute_result",
          "data": {
            "text/plain": [
              "array([101.55831919, 106.49640261, 100.80613493, 109.94559834,\n",
              "        99.19851208, 100.92049757, 101.42317442, 102.96047628,\n",
              "        95.11808642,  99.96474581,  98.139914  ,  98.87605547,\n",
              "       100.96500138, 103.23410326,  97.07276271, 100.8160583 ,\n",
              "       110.3828393 ,  90.01620107,  94.26746974, 110.85167632,\n",
              "       101.2208268 ,  92.39935449,  95.3718328 ,  97.50431934,\n",
              "       101.98108343, 103.98123431,  96.07440322,  93.14794107,\n",
              "        94.91559294, 100.29475002,  92.56984336, 105.0502643 ,\n",
              "       101.74601383,  98.46045108, 101.46386095,  98.55763672,\n",
              "       101.09532432,  97.6441627 ,  99.60654647,  99.44154352,\n",
              "       102.62679958, 102.59533974, 101.67392156,  89.8877754 ,\n",
              "        99.23115649, 101.84196176,  97.28857166, 102.5208043 ,\n",
              "        98.79287392, 102.99740149, 107.34527262,  96.37634194,\n",
              "        96.79398681, 100.79656923,  91.09738699,  96.64506888,\n",
              "        99.62628784,  98.59021339, 107.0003214 , 100.06085008,\n",
              "       104.47891468, 102.50123569,  90.15132125,  99.10700983,\n",
              "        98.91510501,  95.22971632,  97.9325689 ,  97.07872341,\n",
              "        87.65311428,  85.69208029, 102.40406532,  97.71738187,\n",
              "        93.30564094,  98.52648937,  97.97065494,  96.53744352,\n",
              "        95.99805954,  90.83063225,  98.40179326, 104.76552041,\n",
              "        98.63442206, 102.23987009, 102.07280097,  94.94947118,\n",
              "        91.90298436,  99.14175041, 112.12992168, 105.87726567,\n",
              "        91.4003666 ,  97.01646517, 106.60856906,  97.8860964 ,\n",
              "        98.44269274,  97.36957763, 102.24327237, 110.26874964,\n",
              "        99.20132772, 101.35966025, 104.15943111,  97.03114191,\n",
              "       104.24413249, 101.08148803,  99.43588081,  97.76017516,\n",
              "        91.35209783, 106.92645422,  95.49090281,  97.97667994,\n",
              "       109.24704708, 100.81871923, 103.01793462, 104.50837083,\n",
              "       105.90212472,  97.98032679,  99.8353847 , 103.44415699,\n",
              "       111.29863271, 104.32149178,  92.76356668, 101.83843985,\n",
              "        95.54760256, 106.80838362, 103.66634947, 108.53166414,\n",
              "        97.49628972,  94.96338413,  98.5207008 , 103.05840396,\n",
              "        95.01269812,  96.90251542,  97.91797068,  99.03883678,\n",
              "        98.3132361 , 100.32978875,  94.24536291,  99.2332691 ,\n",
              "       100.51958571,  93.7455076 ,  96.04146586,  94.27923949,\n",
              "       103.75949552, 101.73868576,  99.53274188,  94.27692555,\n",
              "       101.87301105, 103.07300796,  89.0923698 , 109.02428125,\n",
              "        99.98543456,  97.22902259, 107.0731329 , 105.87843241,\n",
              "       111.04843574,  91.99531224,  97.49844644, 106.44340604,\n",
              "        98.27516501, 104.76403865,  97.46552922,  97.75651998,\n",
              "        98.55055728, 102.17204209, 110.47945653, 104.6134907 ,\n",
              "       108.43060764,  98.41787625,  99.81421523,  93.77451475,\n",
              "       102.1797422 , 100.49364068,  96.62409902, 102.43942817,\n",
              "       105.71536305,  98.70759112,  92.28429567,  93.86559064,\n",
              "        97.64561908, 106.6065679 ,  96.42021297,  94.30956969,\n",
              "        96.16457205, 101.35336515, 113.28141105, 100.78511021,\n",
              "       108.16133631,  93.05088113,  96.87657517,  98.05303628,\n",
              "        99.01276981,  93.18937126, 100.66743223, 106.00185149,\n",
              "       105.31171362, 100.50434082, 102.66885047, 107.14483664,\n",
              "       104.46380755,  96.17448573, 102.89188309,  99.50208929])"
            ]
          },
          "metadata": {
            "tags": []
          },
          "execution_count": 3
        }
      ]
    },
    {
      "cell_type": "code",
      "metadata": {
        "colab": {
          "base_uri": "https://localhost:8080/",
          "height": 265
        },
        "id": "kUrhCWVScrK6",
        "outputId": "3b2d8b28-02de-4745-abe1-69600287bcf0"
      },
      "source": [
        "sns.histplot(s) # as you see most of values are scattered between the values 40 and 60 as it is obvious that we have chosen a normal distrubition hving an average value of 50 and standart deviaton of 10\n",
        "plt.show()"
      ],
      "execution_count": 4,
      "outputs": [
        {
          "output_type": "display_data",
          "data": {
            "image/png": "[encoded data removed]",
            "text/plain": [
              "<Figure size 432x288 with 1 Axes>"
            ]
          },
          "metadata": {
            "tags": [],
            "needs_background": "light"
          }
        }
      ]
    },
    {
      "cell_type": "code",
      "metadata": {
        "id": "1fVFTvtpcrK8"
      },
      "source": [
        "s[90] = 180\n",
        "s[50] = -40"
      ],
      "execution_count": 5,
      "outputs": []
    },
    {
      "cell_type": "code",
      "metadata": {
        "colab": {
          "base_uri": "https://localhost:8080/",
          "height": 265
        },
        "id": "XbzdHJD5crK9",
        "outputId": "860c77ed-9ac8-447c-ae33-145ef3d298df"
      },
      "source": [
        "sns.histplot(s)\r\n",
        "plt.show()"
      ],
      "execution_count": 6,
      "outputs": [
        {
          "output_type": "display_data",
          "data": {
            "image/png": "[encoded data removed]",
            "text/plain": [
              "<Figure size 432x288 with 1 Axes>"
            ]
          },
          "metadata": {
            "tags": [],
            "needs_background": "light"
          }
        }
      ]
    },
    {
      "cell_type": "code",
      "metadata": {
        "colab": {
          "base_uri": "https://localhost:8080/",
          "height": 195
        },
        "id": "qyy4QZ1_crK-",
        "outputId": "49c13591-ebe6-4614-e6ac-e9c7fc546601"
      },
      "source": [
        "df = pd.DataFrame(s, columns=[\"Data\"]) #create a dataframe from distrubution we have\n",
        "df.head()"
      ],
      "execution_count": 7,
      "outputs": [
        {
          "output_type": "execute_result",
          "data": {
            "text/html": [
              "<div>\n",
              "<style scoped>\n",
              "    .dataframe tbody tr th:only-of-type {\n",
              "        vertical-align: middle;\n",
              "    }\n",
              "\n",
              "    .dataframe tbody tr th {\n",
              "        vertical-align: top;\n",
              "    }\n",
              "\n",
              "    .dataframe thead th {\n",
              "        text-align: right;\n",
              "    }\n",
              "</style>\n",
              "<table border=\"1\" class=\"dataframe\">\n",
              "  <thead>\n",
              "    <tr style=\"text-align: right;\">\n",
              "      <th></th>\n",
              "      <th>Data</th>\n",
              "    </tr>\n",
              "  </thead>\n",
              "  <tbody>\n",
              "    <tr>\n",
              "      <th>0</th>\n",
              "      <td>101.558319</td>\n",
              "    </tr>\n",
              "    <tr>\n",
              "      <th>1</th>\n",
              "      <td>106.496403</td>\n",
              "    </tr>\n",
              "    <tr>\n",
              "      <th>2</th>\n",
              "      <td>100.806135</td>\n",
              "    </tr>\n",
              "    <tr>\n",
              "      <th>3</th>\n",
              "      <td>109.945598</td>\n",
              "    </tr>\n",
              "    <tr>\n",
              "      <th>4</th>\n",
              "      <td>99.198512</td>\n",
              "    </tr>\n",
              "  </tbody>\n",
              "</table>\n",
              "</div>"
            ],
            "text/plain": [
              "         Data\n",
              "0  101.558319\n",
              "1  106.496403\n",
              "2  100.806135\n",
              "3  109.945598\n",
              "4   99.198512"
            ]
          },
          "metadata": {
            "tags": []
          },
          "execution_count": 7
        }
      ]
    },
    {
      "cell_type": "markdown",
      "metadata": {
        "id": "d5fkKggocrK-"
      },
      "source": [
        "# Calculating the z_score"
      ]
    },
    {
      "cell_type": "code",
      "metadata": {
        "id": "n7tTyytIcrK_"
      },
      "source": [
        "for col in df.columns:\n",
        "    col_zscore = col + \"_zscore\"\n",
        "    df[col_zscore] = (df[col] - df[col].mean())/df[col].std(ddof=0)\n",
        "# creating a new column in my dataframe, which would be called \"data_zscore\" where I take the row value and I subtract that columns mean from that row value and divide by the standard deviation of that column "
      ],
      "execution_count": 8,
      "outputs": []
    },
    {
      "cell_type": "code",
      "metadata": {
        "colab": {
          "base_uri": "https://localhost:8080/",
          "height": 195
        },
        "id": "Odbp-G_kfZiM",
        "outputId": "1c805fb0-80c9-428c-af9a-88d82fc5fdde"
      },
      "source": [
        "df.head()"
      ],
      "execution_count": 9,
      "outputs": [
        {
          "output_type": "execute_result",
          "data": {
            "text/html": [
              "<div>\n",
              "<style scoped>\n",
              "    .dataframe tbody tr th:only-of-type {\n",
              "        vertical-align: middle;\n",
              "    }\n",
              "\n",
              "    .dataframe tbody tr th {\n",
              "        vertical-align: top;\n",
              "    }\n",
              "\n",
              "    .dataframe thead th {\n",
              "        text-align: right;\n",
              "    }\n",
              "</style>\n",
              "<table border=\"1\" class=\"dataframe\">\n",
              "  <thead>\n",
              "    <tr style=\"text-align: right;\">\n",
              "      <th></th>\n",
              "      <th>Data</th>\n",
              "      <th>Data_zscore</th>\n",
              "    </tr>\n",
              "  </thead>\n",
              "  <tbody>\n",
              "    <tr>\n",
              "      <th>0</th>\n",
              "      <td>101.558319</td>\n",
              "      <td>0.161294</td>\n",
              "    </tr>\n",
              "    <tr>\n",
              "      <th>1</th>\n",
              "      <td>106.496403</td>\n",
              "      <td>0.558395</td>\n",
              "    </tr>\n",
              "    <tr>\n",
              "      <th>2</th>\n",
              "      <td>100.806135</td>\n",
              "      <td>0.100807</td>\n",
              "    </tr>\n",
              "    <tr>\n",
              "      <th>3</th>\n",
              "      <td>109.945598</td>\n",
              "      <td>0.835765</td>\n",
              "    </tr>\n",
              "    <tr>\n",
              "      <th>4</th>\n",
              "      <td>99.198512</td>\n",
              "      <td>-0.028472</td>\n",
              "    </tr>\n",
              "  </tbody>\n",
              "</table>\n",
              "</div>"
            ],
            "text/plain": [
              "         Data  Data_zscore\n",
              "0  101.558319     0.161294\n",
              "1  106.496403     0.558395\n",
              "2  100.806135     0.100807\n",
              "3  109.945598     0.835765\n",
              "4   99.198512    -0.028472"
            ]
          },
          "metadata": {
            "tags": []
          },
          "execution_count": 9
        }
      ]
    },
    {
      "cell_type": "code",
      "metadata": {
        "id": "5h0smfBzcrLA"
      },
      "source": [
        ""
      ],
      "execution_count": 9,
      "outputs": []
    },
    {
      "cell_type": "markdown",
      "metadata": {
        "id": "YJyMNcR7crLA"
      },
      "source": [
        "pandas.DataFrame.std\n",
        "DataFrame.std(axis=None, skipna=None, level=None, ddof=1, numeric_only=None, **kwargs)[source]¶\n",
        "Return sample standard deviation over requested axis.\n",
        "\n",
        "Normalized by N-1 by default. This can be changed using the ddof argument\n",
        "\n",
        "Parameters\n",
        "axis{index (0), columns (1)}\n",
        "skipnabool, default True\n",
        "Exclude NA/null values. If an entire row/column is NA, the result will be NA.\n",
        "\n",
        "levelint or level name, default None\n",
        "If the axis is a MultiIndex (hierarchical), count along a particular level, collapsing into a Series.\n",
        "\n",
        "ddofint, default 1\n",
        "Delta Degrees of Freedom. The divisor used in calculations is N - ddof, where N represents the number of elements.\n",
        "\n",
        "numeric_onlybool, default None\n",
        "Include only float, int, boolean columns. If None, will attempt to use everything, then use only numeric data. Not implemented for Series.\n",
        "\n",
        "Returns\n",
        "Series or DataFrame (if level specified)"
      ]
    },
    {
      "cell_type": "markdown",
      "metadata": {
        "id": "-1S0BXuecrLB"
      },
      "source": [
        "* Z-Score is essentially how many standart deviations away is my actual value from the mean value based on the business context, you can define the threshold value for the z score to classify a point as an outlier or not in the current scheme of things."
      ]
    },
    {
      "cell_type": "code",
      "metadata": {
        "id": "3YRT_Un3crLC"
      },
      "source": [
        "df[\"outlier\"] = (abs(df[\"Data_zscore\"])>3).astype(int)"
      ],
      "execution_count": 10,
      "outputs": []
    },
    {
      "cell_type": "markdown",
      "metadata": {
        "id": "BdCv899GcrLC"
      },
      "source": [
        "dataframe.abs() is one of the simplest pandas dataframe function. It returns an object with absolute value taken and it is only applicable to objects that are all numeric. It does not work with any Nan value either. abs() function can also be used with complex numbers to find their absolute value."
      ]
    },
    {
      "cell_type": "code",
      "metadata": {
        "colab": {
          "base_uri": "https://localhost:8080/",
          "height": 195
        },
        "id": "ULOVF0vNcrLD",
        "outputId": "967928d7-52cc-4423-ed5f-328953525386"
      },
      "source": [
        "df.tail() # actual data column,\tData_zscore,outlier"
      ],
      "execution_count": 11,
      "outputs": [
        {
          "output_type": "execute_result",
          "data": {
            "text/html": [
              "<div>\n",
              "<style scoped>\n",
              "    .dataframe tbody tr th:only-of-type {\n",
              "        vertical-align: middle;\n",
              "    }\n",
              "\n",
              "    .dataframe tbody tr th {\n",
              "        vertical-align: top;\n",
              "    }\n",
              "\n",
              "    .dataframe thead th {\n",
              "        text-align: right;\n",
              "    }\n",
              "</style>\n",
              "<table border=\"1\" class=\"dataframe\">\n",
              "  <thead>\n",
              "    <tr style=\"text-align: right;\">\n",
              "      <th></th>\n",
              "      <th>Data</th>\n",
              "      <th>Data_zscore</th>\n",
              "      <th>outlier</th>\n",
              "    </tr>\n",
              "  </thead>\n",
              "  <tbody>\n",
              "    <tr>\n",
              "      <th>195</th>\n",
              "      <td>107.144837</td>\n",
              "      <td>0.610539</td>\n",
              "      <td>0</td>\n",
              "    </tr>\n",
              "    <tr>\n",
              "      <th>196</th>\n",
              "      <td>104.463808</td>\n",
              "      <td>0.394942</td>\n",
              "      <td>0</td>\n",
              "    </tr>\n",
              "    <tr>\n",
              "      <th>197</th>\n",
              "      <td>96.174486</td>\n",
              "      <td>-0.271651</td>\n",
              "      <td>0</td>\n",
              "    </tr>\n",
              "    <tr>\n",
              "      <th>198</th>\n",
              "      <td>102.891883</td>\n",
              "      <td>0.268534</td>\n",
              "      <td>0</td>\n",
              "    </tr>\n",
              "    <tr>\n",
              "      <th>199</th>\n",
              "      <td>99.502089</td>\n",
              "      <td>-0.004059</td>\n",
              "      <td>0</td>\n",
              "    </tr>\n",
              "  </tbody>\n",
              "</table>\n",
              "</div>"
            ],
            "text/plain": [
              "           Data  Data_zscore  outlier\n",
              "195  107.144837     0.610539        0\n",
              "196  104.463808     0.394942        0\n",
              "197   96.174486    -0.271651        0\n",
              "198  102.891883     0.268534        0\n",
              "199   99.502089    -0.004059        0"
            ]
          },
          "metadata": {
            "tags": []
          },
          "execution_count": 11
        }
      ]
    },
    {
      "cell_type": "markdown",
      "metadata": {
        "id": "zyuYnLCkcrLE"
      },
      "source": [
        "* let's find out the rows at my z_score has classified as outliers"
      ]
    },
    {
      "cell_type": "code",
      "metadata": {
        "colab": {
          "base_uri": "https://localhost:8080/",
          "height": 106
        },
        "id": "d2qZFJ-DcrLF",
        "outputId": "31932b04-79d2-46a2-d476-e34126048c33"
      },
      "source": [
        "df.loc[df.outlier == 1]"
      ],
      "execution_count": 12,
      "outputs": [
        {
          "output_type": "execute_result",
          "data": {
            "text/html": [
              "<div>\n",
              "<style scoped>\n",
              "    .dataframe tbody tr th:only-of-type {\n",
              "        vertical-align: middle;\n",
              "    }\n",
              "\n",
              "    .dataframe tbody tr th {\n",
              "        vertical-align: top;\n",
              "    }\n",
              "\n",
              "    .dataframe thead th {\n",
              "        text-align: right;\n",
              "    }\n",
              "</style>\n",
              "<table border=\"1\" class=\"dataframe\">\n",
              "  <thead>\n",
              "    <tr style=\"text-align: right;\">\n",
              "      <th></th>\n",
              "      <th>Data</th>\n",
              "      <th>Data_zscore</th>\n",
              "      <th>outlier</th>\n",
              "    </tr>\n",
              "  </thead>\n",
              "  <tbody>\n",
              "    <tr>\n",
              "      <th>50</th>\n",
              "      <td>-40.0</td>\n",
              "      <td>-11.222249</td>\n",
              "      <td>1</td>\n",
              "    </tr>\n",
              "    <tr>\n",
              "      <th>90</th>\n",
              "      <td>180.0</td>\n",
              "      <td>6.469255</td>\n",
              "      <td>1</td>\n",
              "    </tr>\n",
              "  </tbody>\n",
              "</table>\n",
              "</div>"
            ],
            "text/plain": [
              "     Data  Data_zscore  outlier\n",
              "50  -40.0   -11.222249        1\n",
              "90  180.0     6.469255        1"
            ]
          },
          "metadata": {
            "tags": []
          },
          "execution_count": 12
        }
      ]
    },
    {
      "cell_type": "code",
      "metadata": {
        "colab": {
          "base_uri": "https://localhost:8080/"
        },
        "id": "8ApaWftdcrLG",
        "outputId": "61b95d25-c37c-4662-dfe5-705c6fe05d09"
      },
      "source": [
        "(df.outlier.value_counts())"
      ],
      "execution_count": 13,
      "outputs": [
        {
          "output_type": "execute_result",
          "data": {
            "text/plain": [
              "0    198\n",
              "1      2\n",
              "Name: outlier, dtype: int64"
            ]
          },
          "metadata": {
            "tags": []
          },
          "execution_count": 13
        }
      ]
    },
    {
      "cell_type": "code",
      "metadata": {
        "tags": [],
        "colab": {
          "base_uri": "https://localhost:8080/"
        },
        "id": "6coDhMSrcrLG",
        "outputId": "fab84840-58b9-4b9d-f74e-fa0954c8d36c"
      },
      "source": [
        "print(\"number of outliers = \" + str(df.outlier.value_counts()[1]))"
      ],
      "execution_count": 14,
      "outputs": [
        {
          "output_type": "stream",
          "text": [
            "number of outliers = 2\n"
          ],
          "name": "stdout"
        }
      ]
    },
    {
      "cell_type": "code",
      "metadata": {
        "id": "Y7HojCF7crLH"
      },
      "source": [
        "def outlier_inspect(df, col, min_z=1, max_z = 5, step = 0.2, max_hist = None, bins = 50):\n",
        "    fig = plt.figure(figsize=(20, 6))\n",
        "    fig.suptitle(col, fontsize=16)\n",
        "    plt.subplot(1,3,1)\n",
        "    if max_hist == None:\n",
        "        sns.histplot(df[col], kde=False, bins = 50,color=\"r\")\n",
        "    else :\n",
        "        sns.distplot(df[df[col]<=max_hist][col], kde=False, bins = 50)\n",
        "    plt.subplot(1,3,2)\n",
        "    sns.boxplot(df[col])\n",
        "    plt.subplot(1,3,3)\n",
        "    z_score_inspect = outlier_zscore(df, col, min_z=min_z, max_z = max_z, step = step)\n",
        "    plt.show()"
      ],
      "execution_count": 15,
      "outputs": []
    },
    {
      "cell_type": "code",
      "metadata": {
        "id": "vrJ5XMhlcrLI"
      },
      "source": [
        "def outlier_zscore(df, col, min_z=1, max_z = 5, step = 0.1, print_list = False):\n",
        "    z_scores = df[\"Data_zscore\"]\n",
        "    threshold_list = []\n",
        "    for threshold in np.arange(min_z, max_z, step):\n",
        "        threshold_list.append((threshold, len(np.where(z_scores > threshold)[0])))\n",
        "        df_outlier = pd.DataFrame(threshold_list, columns = ['threshold', 'outlier_count'])\n",
        "        df_outlier['pct'] = (df_outlier.outlier_count - df_outlier.outlier_count.shift(-1))/df_outlier.outlier_count*100\n",
        "    plt.plot(df_outlier.threshold, df_outlier.outlier_count)\n",
        "    best_treshold = round(df_outlier.iloc[df_outlier.pct.argmax(), 0],2)\n",
        "    outlier_limit = int(df[col].dropna().mean() + (df[col].dropna().std()) * df_outlier.iloc[df_outlier.pct.argmax(), 0])\n",
        "    percentile_threshold = stats.percentileofscore(df[col].dropna(), outlier_limit)\n",
        "    plt.vlines(best_treshold, 0, df_outlier.outlier_count.max(), \n",
        "               colors=\"r\", ls = \":\"\n",
        "              )\n",
        "    plt.annotate(\"Zscore : {}\\nValue : {}\\nPercentile : {}\".format(best_treshold, outlier_limit, \n",
        "                                                                   (np.round(percentile_threshold, 3), \n",
        "                                                                    np.round(100-percentile_threshold, 3))), \n",
        "                 (best_treshold, df_outlier.outlier_count.max()/2))\n",
        "    #plt.show()\n",
        "    if print_list:\n",
        "        print(df_outlier)\n",
        "    return (plt, df_outlier, best_treshold, outlier_limit, percentile_threshold)"
      ],
      "execution_count": 16,
      "outputs": []
    },
    {
      "cell_type": "code",
      "metadata": {
        "colab": {
          "base_uri": "https://localhost:8080/",
          "height": 334
        },
        "id": "PtF-Upn6crLJ",
        "outputId": "6f008435-b5f7-4637-e81f-766e51cabe44"
      },
      "source": [
        "outlier_inspect(df,\"Data\")"
      ],
      "execution_count": 19,
      "outputs": [
        {
          "output_type": "stream",
          "text": [
            "/usr/local/lib/python3.6/dist-packages/seaborn/_decorators.py:43: FutureWarning: Pass the following variable as a keyword arg: x. From version 0.12, the only valid positional argument will be `data`, and passing other arguments without an explicit keyword will result in an error or misinterpretation.\n",
            "  FutureWarning\n"
          ],
          "name": "stderr"
        },
        {
          "output_type": "display_data",
          "data": {
            "image/png": "[encoded data removed]",
            "text/plain": [
              "<Figure size 1440x432 with 3 Axes>"
            ]
          },
          "metadata": {
            "tags": [],
            "needs_background": "light"
          }
        }
      ]
    },
    {
      "cell_type": "code",
      "metadata": {
        "colab": {
          "base_uri": "https://localhost:8080/",
          "height": 195
        },
        "id": "y0ABASmWcrLJ",
        "outputId": "40ab90a0-a4c0-4dee-a919-c54395ae9c8f"
      },
      "source": [
        "df[\"outlier\"] = (abs(df[\"Data_zscore\"])>1).astype(int)\r\n",
        "df.head()"
      ],
      "execution_count": 20,
      "outputs": [
        {
          "output_type": "execute_result",
          "data": {
            "text/html": [
              "<div>\n",
              "<style scoped>\n",
              "    .dataframe tbody tr th:only-of-type {\n",
              "        vertical-align: middle;\n",
              "    }\n",
              "\n",
              "    .dataframe tbody tr th {\n",
              "        vertical-align: top;\n",
              "    }\n",
              "\n",
              "    .dataframe thead th {\n",
              "        text-align: right;\n",
              "    }\n",
              "</style>\n",
              "<table border=\"1\" class=\"dataframe\">\n",
              "  <thead>\n",
              "    <tr style=\"text-align: right;\">\n",
              "      <th></th>\n",
              "      <th>Data</th>\n",
              "      <th>Data_zscore</th>\n",
              "      <th>outlier</th>\n",
              "    </tr>\n",
              "  </thead>\n",
              "  <tbody>\n",
              "    <tr>\n",
              "      <th>0</th>\n",
              "      <td>101.558319</td>\n",
              "      <td>0.161294</td>\n",
              "      <td>0</td>\n",
              "    </tr>\n",
              "    <tr>\n",
              "      <th>1</th>\n",
              "      <td>106.496403</td>\n",
              "      <td>0.558395</td>\n",
              "      <td>0</td>\n",
              "    </tr>\n",
              "    <tr>\n",
              "      <th>2</th>\n",
              "      <td>100.806135</td>\n",
              "      <td>0.100807</td>\n",
              "      <td>0</td>\n",
              "    </tr>\n",
              "    <tr>\n",
              "      <th>3</th>\n",
              "      <td>109.945598</td>\n",
              "      <td>0.835765</td>\n",
              "      <td>0</td>\n",
              "    </tr>\n",
              "    <tr>\n",
              "      <th>4</th>\n",
              "      <td>99.198512</td>\n",
              "      <td>-0.028472</td>\n",
              "      <td>0</td>\n",
              "    </tr>\n",
              "  </tbody>\n",
              "</table>\n",
              "</div>"
            ],
            "text/plain": [
              "         Data  Data_zscore  outlier\n",
              "0  101.558319     0.161294        0\n",
              "1  106.496403     0.558395        0\n",
              "2  100.806135     0.100807        0\n",
              "3  109.945598     0.835765        0\n",
              "4   99.198512    -0.028472        0"
            ]
          },
          "metadata": {
            "tags": []
          },
          "execution_count": 20
        }
      ]
    },
    {
      "cell_type": "code",
      "metadata": {
        "colab": {
          "base_uri": "https://localhost:8080/",
          "height": 195
        },
        "id": "G9GhpdQwhZvw",
        "outputId": "b543e61b-efe2-47a3-a845-fbb724294bed"
      },
      "source": [
        "df.loc[df.outlier == 1]"
      ],
      "execution_count": 21,
      "outputs": [
        {
          "output_type": "execute_result",
          "data": {
            "text/html": [
              "<div>\n",
              "<style scoped>\n",
              "    .dataframe tbody tr th:only-of-type {\n",
              "        vertical-align: middle;\n",
              "    }\n",
              "\n",
              "    .dataframe tbody tr th {\n",
              "        vertical-align: top;\n",
              "    }\n",
              "\n",
              "    .dataframe thead th {\n",
              "        text-align: right;\n",
              "    }\n",
              "</style>\n",
              "<table border=\"1\" class=\"dataframe\">\n",
              "  <thead>\n",
              "    <tr style=\"text-align: right;\">\n",
              "      <th></th>\n",
              "      <th>Data</th>\n",
              "      <th>Data_zscore</th>\n",
              "      <th>outlier</th>\n",
              "    </tr>\n",
              "  </thead>\n",
              "  <tbody>\n",
              "    <tr>\n",
              "      <th>50</th>\n",
              "      <td>-40.000000</td>\n",
              "      <td>-11.222249</td>\n",
              "      <td>1</td>\n",
              "    </tr>\n",
              "    <tr>\n",
              "      <th>69</th>\n",
              "      <td>85.692080</td>\n",
              "      <td>-1.114604</td>\n",
              "      <td>1</td>\n",
              "    </tr>\n",
              "    <tr>\n",
              "      <th>86</th>\n",
              "      <td>112.129922</td>\n",
              "      <td>1.011420</td>\n",
              "      <td>1</td>\n",
              "    </tr>\n",
              "    <tr>\n",
              "      <th>90</th>\n",
              "      <td>180.000000</td>\n",
              "      <td>6.469255</td>\n",
              "      <td>1</td>\n",
              "    </tr>\n",
              "    <tr>\n",
              "      <th>182</th>\n",
              "      <td>113.281411</td>\n",
              "      <td>1.104018</td>\n",
              "      <td>1</td>\n",
              "    </tr>\n",
              "  </tbody>\n",
              "</table>\n",
              "</div>"
            ],
            "text/plain": [
              "           Data  Data_zscore  outlier\n",
              "50   -40.000000   -11.222249        1\n",
              "69    85.692080    -1.114604        1\n",
              "86   112.129922     1.011420        1\n",
              "90   180.000000     6.469255        1\n",
              "182  113.281411     1.104018        1"
            ]
          },
          "metadata": {
            "tags": []
          },
          "execution_count": 21
        }
      ]
    },
    {
      "cell_type": "code",
      "metadata": {
        "colab": {
          "base_uri": "https://localhost:8080/"
        },
        "id": "Qhpm5okVhpNU",
        "outputId": "38f9440f-c490-44f9-9778-1504dc8514e0"
      },
      "source": [
        "print(\"number of outliers = \" + str(df.outlier.value_counts()[1]))"
      ],
      "execution_count": 22,
      "outputs": [
        {
          "output_type": "stream",
          "text": [
            "number of outliers = 5\n"
          ],
          "name": "stdout"
        }
      ]
    },
    {
      "cell_type": "code",
      "metadata": {
        "id": "_BX0RgfKjFRG"
      },
      "source": [
        "df=df.loc[df.outlier == 0]"
      ],
      "execution_count": 23,
      "outputs": []
    },
    {
      "cell_type": "code",
      "metadata": {
        "colab": {
          "base_uri": "https://localhost:8080/",
          "height": 195
        },
        "id": "8zV7-wjSjnfy",
        "outputId": "a018449e-c1ee-4fc9-ede7-a2e37adb2643"
      },
      "source": [
        "df.head()"
      ],
      "execution_count": 24,
      "outputs": [
        {
          "output_type": "execute_result",
          "data": {
            "text/html": [
              "<div>\n",
              "<style scoped>\n",
              "    .dataframe tbody tr th:only-of-type {\n",
              "        vertical-align: middle;\n",
              "    }\n",
              "\n",
              "    .dataframe tbody tr th {\n",
              "        vertical-align: top;\n",
              "    }\n",
              "\n",
              "    .dataframe thead th {\n",
              "        text-align: right;\n",
              "    }\n",
              "</style>\n",
              "<table border=\"1\" class=\"dataframe\">\n",
              "  <thead>\n",
              "    <tr style=\"text-align: right;\">\n",
              "      <th></th>\n",
              "      <th>Data</th>\n",
              "      <th>Data_zscore</th>\n",
              "      <th>outlier</th>\n",
              "    </tr>\n",
              "  </thead>\n",
              "  <tbody>\n",
              "    <tr>\n",
              "      <th>0</th>\n",
              "      <td>101.558319</td>\n",
              "      <td>0.161294</td>\n",
              "      <td>0</td>\n",
              "    </tr>\n",
              "    <tr>\n",
              "      <th>1</th>\n",
              "      <td>106.496403</td>\n",
              "      <td>0.558395</td>\n",
              "      <td>0</td>\n",
              "    </tr>\n",
              "    <tr>\n",
              "      <th>2</th>\n",
              "      <td>100.806135</td>\n",
              "      <td>0.100807</td>\n",
              "      <td>0</td>\n",
              "    </tr>\n",
              "    <tr>\n",
              "      <th>3</th>\n",
              "      <td>109.945598</td>\n",
              "      <td>0.835765</td>\n",
              "      <td>0</td>\n",
              "    </tr>\n",
              "    <tr>\n",
              "      <th>4</th>\n",
              "      <td>99.198512</td>\n",
              "      <td>-0.028472</td>\n",
              "      <td>0</td>\n",
              "    </tr>\n",
              "  </tbody>\n",
              "</table>\n",
              "</div>"
            ],
            "text/plain": [
              "         Data  Data_zscore  outlier\n",
              "0  101.558319     0.161294        0\n",
              "1  106.496403     0.558395        0\n",
              "2  100.806135     0.100807        0\n",
              "3  109.945598     0.835765        0\n",
              "4   99.198512    -0.028472        0"
            ]
          },
          "metadata": {
            "tags": []
          },
          "execution_count": 24
        }
      ]
    },
    {
      "cell_type": "code",
      "metadata": {
        "colab": {
          "base_uri": "https://localhost:8080/",
          "height": 47
        },
        "id": "ckj0Aes4jXtE",
        "outputId": "fcb02983-495b-4cbb-a886-803521821aec"
      },
      "source": [
        "df.loc[df.outlier == 1]"
      ],
      "execution_count": 25,
      "outputs": [
        {
          "output_type": "execute_result",
          "data": {
            "text/html": [
              "<div>\n",
              "<style scoped>\n",
              "    .dataframe tbody tr th:only-of-type {\n",
              "        vertical-align: middle;\n",
              "    }\n",
              "\n",
              "    .dataframe tbody tr th {\n",
              "        vertical-align: top;\n",
              "    }\n",
              "\n",
              "    .dataframe thead th {\n",
              "        text-align: right;\n",
              "    }\n",
              "</style>\n",
              "<table border=\"1\" class=\"dataframe\">\n",
              "  <thead>\n",
              "    <tr style=\"text-align: right;\">\n",
              "      <th></th>\n",
              "      <th>Data</th>\n",
              "      <th>Data_zscore</th>\n",
              "      <th>outlier</th>\n",
              "    </tr>\n",
              "  </thead>\n",
              "  <tbody>\n",
              "  </tbody>\n",
              "</table>\n",
              "</div>"
            ],
            "text/plain": [
              "Empty DataFrame\n",
              "Columns: [Data, Data_zscore, outlier]\n",
              "Index: []"
            ]
          },
          "metadata": {
            "tags": []
          },
          "execution_count": 25
        }
      ]
    },
    {
      "cell_type": "code",
      "metadata": {
        "colab": {
          "base_uri": "https://localhost:8080/"
        },
        "id": "Gsy68C-pjyfs",
        "outputId": "9136e0aa-1b0b-4eac-8d5d-e76841fe590a"
      },
      "source": [
        "(df.outlier.value_counts())"
      ],
      "execution_count": 26,
      "outputs": [
        {
          "output_type": "execute_result",
          "data": {
            "text/plain": [
              "0    195\n",
              "Name: outlier, dtype: int64"
            ]
          },
          "metadata": {
            "tags": []
          },
          "execution_count": 26
        }
      ]
    },
    {
      "cell_type": "code",
      "metadata": {
        "colab": {
          "base_uri": "https://localhost:8080/",
          "height": 279
        },
        "id": "mgB1Q6pakDyK",
        "outputId": "c3c201ab-249b-440c-fca3-88ee35a167e4"
      },
      "source": [
        "sns.histplot(df[\"Data\"])\r\n",
        "plt.show()"
      ],
      "execution_count": 27,
      "outputs": [
        {
          "output_type": "display_data",
          "data": {
            "image/png": "[encoded data removed]",
            "text/plain": [
              "<Figure size 432x288 with 1 Axes>"
            ]
          },
          "metadata": {
            "tags": [],
            "needs_background": "light"
          }
        }
      ]
    },
    {
      "cell_type": "code",
      "metadata": {
        "id": "6TCfSN69km18"
      },
      "source": [
        ""
      ],
      "execution_count": null,
      "outputs": []
    }
  ]
}